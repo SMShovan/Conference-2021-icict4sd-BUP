{
 "cells": [
  {
   "cell_type": "markdown",
   "metadata": {},
   "source": [
    "# 1. Dataset Preprocessing"
   ]
  },
  {
   "cell_type": "markdown",
   "metadata": {},
   "source": [
    "### Importing necessary libraries"
   ]
  },
  {
   "cell_type": "code",
   "execution_count": 283,
   "metadata": {},
   "outputs": [],
   "source": [
    "import numpy as np\n",
    "import pandas as pd \n",
    "import matplotlib.pyplot as plt\n",
    "import math\n",
    "\n",
    "\n",
    "\n",
    "from numpy import array\n",
    "from numpy import argmax\n",
    "from numpy import mean\n",
    "from numpy import std\n",
    "\n",
    "\n",
    "import os\n",
    "import os.path\n",
    "import pickle\n",
    "\n",
    "import sklearn \n",
    "\n",
    "from sklearn.model_selection import train_test_split\n",
    "\n",
    "from sklearn.metrics import classification_report\n",
    "from sklearn.metrics import confusion_matrix\n",
    "\n",
    "from sklearn.ensemble import RandomForestClassifier\n",
    "\n",
    "\n",
    "from sklearn.utils import class_weight\n",
    "\n",
    "\n",
    "from sklearn.svm import SVC\n",
    "from xgboost import XGBClassifier\n",
    "from lightgbm import LGBMClassifier\n",
    "from sklearn.ensemble import ExtraTreesClassifier \n",
    "\n",
    "from sklearn.metrics import accuracy_score\n",
    "from sklearn.metrics import matthews_corrcoef\n",
    "from sklearn.model_selection import cross_val_score\n",
    "from sklearn.model_selection import cross_val_predict\n",
    "\n",
    "\n",
    "\n",
    "\n",
    "from imblearn.over_sampling import SMOTE\n",
    "from imblearn.over_sampling import SVMSMOTE\n",
    "from imblearn.over_sampling import RandomOverSampler\n",
    "from imblearn.under_sampling import RandomUnderSampler\n",
    "from imblearn.under_sampling import ClusterCentroids\n",
    "\n",
    "from sklearn.model_selection import KFold\n",
    "from sklearn.model_selection import StratifiedKFold\n",
    "\n",
    "from sklearn.metrics import roc_curve\n",
    "from sklearn.metrics import roc_auc_score\n",
    "from matplotlib import pyplot\n",
    "\n",
    "from scipy import stats"
   ]
  },
  {
   "cell_type": "markdown",
   "metadata": {},
   "source": [
    "### Parameters"
   ]
  },
  {
   "cell_type": "code",
   "execution_count": 89,
   "metadata": {},
   "outputs": [],
   "source": [
    "window_size = 31\n",
    "resposible_residue = 'K'\n",
    "directory = '/Users/smshovan/Google Drive/Colab Notebooks/New Research/Master\\'s Thesis 1/'"
   ]
  },
  {
   "cell_type": "markdown",
   "metadata": {},
   "source": [
    "### Reading data "
   ]
  },
  {
   "cell_type": "code",
   "execution_count": 7,
   "metadata": {},
   "outputs": [
    {
     "data": {
      "text/html": [
       "<div>\n",
       "<style scoped>\n",
       "    .dataframe tbody tr th:only-of-type {\n",
       "        vertical-align: middle;\n",
       "    }\n",
       "\n",
       "    .dataframe tbody tr th {\n",
       "        vertical-align: top;\n",
       "    }\n",
       "\n",
       "    .dataframe thead th {\n",
       "        text-align: right;\n",
       "    }\n",
       "</style>\n",
       "<table border=\"1\" class=\"dataframe\">\n",
       "  <thead>\n",
       "    <tr style=\"text-align: right;\">\n",
       "      <th></th>\n",
       "      <th>PLMD ID</th>\n",
       "      <th>Uniprot Accession</th>\n",
       "      <th>Position</th>\n",
       "      <th>Type</th>\n",
       "      <th>Sequence</th>\n",
       "      <th>Species</th>\n",
       "      <th>PMIDs</th>\n",
       "    </tr>\n",
       "  </thead>\n",
       "  <tbody>\n",
       "    <tr>\n",
       "      <th>0</th>\n",
       "      <td>PLMD-324</td>\n",
       "      <td>O08749</td>\n",
       "      <td>122</td>\n",
       "      <td>Glutarylation</td>\n",
       "      <td>MQSWSRVYRSLAKKGHFNRISHGLQGVSSVPLRTYADQPIEADVTV...</td>\n",
       "      <td>Mus musculus</td>\n",
       "      <td>24703693</td>\n",
       "    </tr>\n",
       "    <tr>\n",
       "      <th>1</th>\n",
       "      <td>PLMD-324</td>\n",
       "      <td>O08749</td>\n",
       "      <td>132</td>\n",
       "      <td>Glutarylation</td>\n",
       "      <td>MQSWSRVYRSLAKKGHFNRISHGLQGVSSVPLRTYADQPIEADVTV...</td>\n",
       "      <td>Mus musculus</td>\n",
       "      <td>24703693</td>\n",
       "    </tr>\n",
       "    <tr>\n",
       "      <th>2</th>\n",
       "      <td>PLMD-324</td>\n",
       "      <td>O08749</td>\n",
       "      <td>143</td>\n",
       "      <td>Glutarylation</td>\n",
       "      <td>MQSWSRVYRSLAKKGHFNRISHGLQGVSSVPLRTYADQPIEADVTV...</td>\n",
       "      <td>Mus musculus</td>\n",
       "      <td>24703693</td>\n",
       "    </tr>\n",
       "    <tr>\n",
       "      <th>3</th>\n",
       "      <td>PLMD-324</td>\n",
       "      <td>O08749</td>\n",
       "      <td>159</td>\n",
       "      <td>Glutarylation</td>\n",
       "      <td>MQSWSRVYRSLAKKGHFNRISHGLQGVSSVPLRTYADQPIEADVTV...</td>\n",
       "      <td>Mus musculus</td>\n",
       "      <td>24703693</td>\n",
       "    </tr>\n",
       "    <tr>\n",
       "      <th>4</th>\n",
       "      <td>PLMD-324</td>\n",
       "      <td>O08749</td>\n",
       "      <td>166</td>\n",
       "      <td>Glutarylation</td>\n",
       "      <td>MQSWSRVYRSLAKKGHFNRISHGLQGVSSVPLRTYADQPIEADVTV...</td>\n",
       "      <td>Mus musculus</td>\n",
       "      <td>24703693</td>\n",
       "    </tr>\n",
       "  </tbody>\n",
       "</table>\n",
       "</div>"
      ],
      "text/plain": [
       "    PLMD ID Uniprot Accession  Position           Type  \\\n",
       "0  PLMD-324            O08749       122  Glutarylation   \n",
       "1  PLMD-324            O08749       132  Glutarylation   \n",
       "2  PLMD-324            O08749       143  Glutarylation   \n",
       "3  PLMD-324            O08749       159  Glutarylation   \n",
       "4  PLMD-324            O08749       166  Glutarylation   \n",
       "\n",
       "                                            Sequence       Species     PMIDs  \n",
       "0  MQSWSRVYRSLAKKGHFNRISHGLQGVSSVPLRTYADQPIEADVTV...  Mus musculus  24703693  \n",
       "1  MQSWSRVYRSLAKKGHFNRISHGLQGVSSVPLRTYADQPIEADVTV...  Mus musculus  24703693  \n",
       "2  MQSWSRVYRSLAKKGHFNRISHGLQGVSSVPLRTYADQPIEADVTV...  Mus musculus  24703693  \n",
       "3  MQSWSRVYRSLAKKGHFNRISHGLQGVSSVPLRTYADQPIEADVTV...  Mus musculus  24703693  \n",
       "4  MQSWSRVYRSLAKKGHFNRISHGLQGVSSVPLRTYADQPIEADVTV...  Mus musculus  24703693  "
      ]
     },
     "execution_count": 7,
     "metadata": {},
     "output_type": "execute_result"
    }
   ],
   "source": [
    "full_data = pd.read_table(directory+'Glutarylation.elm')\n",
    "full_data.head()"
   ]
  },
  {
   "cell_type": "code",
   "execution_count": 10,
   "metadata": {},
   "outputs": [
    {
     "name": "stdout",
     "output_type": "stream",
     "text": [
      "<class 'pandas.core.frame.DataFrame'>\n",
      "RangeIndex: 715 entries, 0 to 714\n",
      "Data columns (total 7 columns):\n",
      " #   Column             Non-Null Count  Dtype \n",
      "---  ------             --------------  ----- \n",
      " 0   PLMD ID            715 non-null    object\n",
      " 1   Uniprot Accession  715 non-null    object\n",
      " 2   Position           715 non-null    int64 \n",
      " 3   Type               715 non-null    object\n",
      " 4   Sequence           715 non-null    object\n",
      " 5   Species            715 non-null    object\n",
      " 6   PMIDs              715 non-null    int64 \n",
      "dtypes: int64(2), object(5)\n",
      "memory usage: 39.2+ KB\n"
     ]
    }
   ],
   "source": [
    "full_data.info()"
   ]
  },
  {
   "cell_type": "code",
   "execution_count": 16,
   "metadata": {},
   "outputs": [
    {
     "data": {
      "text/plain": [
       "'PLMD-324'"
      ]
     },
     "execution_count": 16,
     "metadata": {},
     "output_type": "execute_result"
    }
   ],
   "source": [
    "full_data['PLMD ID'][index]"
   ]
  },
  {
   "cell_type": "markdown",
   "metadata": {},
   "source": [
    "### Convert to fasta file for removing homologous sequences"
   ]
  },
  {
   "cell_type": "code",
   "execution_count": 18,
   "metadata": {},
   "outputs": [],
   "source": [
    "f= open(\"sequence_tb.fasta\",\"w+\")\n",
    "for index in range(full_data.shape[0]):\n",
    "  f.write(\">\" + full_data['PLMD ID'][index]+ \"\\n\"+ full_data['Sequence'][index]+\"\\n\")\n",
    "f.close()"
   ]
  },
  {
   "cell_type": "markdown",
   "metadata": {},
   "source": [
    "### Reduce homologous sequence using CD-HIT\n",
    "db is the filename of input, \n",
    "db90 is output, \n",
    "* -c 1.0, means 100% identity, is the clustering threshold\n",
    "* -c 0.9, means 90% identity, is the clustering threshold\n",
    "* -n 5 is the word size\n",
    "* -d 0 use sequence name in fasta header till the first white space\n",
    "* -M 16000, to use 16GB RAM\n",
    "* -T 8, to use 8 threads\n",
    "\n",
    "Choose of word size:\n",
    "\n",
    "* -n 5 for thresholds 0.7 ~ 1.0\n",
    "* -n 4 for thresholds 0.6 ~ 0.7\n",
    "* -n 3 for thresholds 0.5 ~ 0.6\n",
    "* -n 2 for thresholds 0.4 ~ 0.5"
   ]
  },
  {
   "cell_type": "code",
   "execution_count": 22,
   "metadata": {},
   "outputs": [
    {
     "data": {
      "text/plain": [
       "\"/Users/smshovan/Google Drive/Colab Notebooks/New Research/Master's Thesis 1\""
      ]
     },
     "execution_count": 22,
     "metadata": {},
     "output_type": "execute_result"
    }
   ],
   "source": [
    "pwd"
   ]
  },
  {
   "cell_type": "code",
   "execution_count": 35,
   "metadata": {},
   "outputs": [
    {
     "name": "stdout",
     "output_type": "stream",
     "text": [
      "Successful\n"
     ]
    }
   ],
   "source": [
    " if not os.system('cd-hit -i sequence_tb.fasta -o reduced_sequence_tb.fasta -c .4 -n 2 '):\n",
    "    print(\"Successful\")"
   ]
  },
  {
   "cell_type": "code",
   "execution_count": null,
   "metadata": {},
   "outputs": [],
   "source": [
    "reduced_data = pd.read_table(directory+'reduced_sequence_tb.fasta')\n",
    "reduced_data.shape"
   ]
  },
  {
   "cell_type": "markdown",
   "metadata": {},
   "source": [
    "### Read the non-redundent sequence padding with dummy residue 'X'"
   ]
  },
  {
   "cell_type": "code",
   "execution_count": 43,
   "metadata": {},
   "outputs": [
    {
     "data": {
      "text/plain": [
       "<function TextIOWrapper.close()>"
      ]
     },
     "execution_count": 43,
     "metadata": {},
     "output_type": "execute_result"
    }
   ],
   "source": [
    "f= open(\"reduced_sequence_tb.fasta\",\"r\")\n",
    "\n",
    "\n",
    "reduced_sequence_tb_ls = f.readlines()\n",
    "\n",
    "f.close\n",
    "\n"
   ]
  },
  {
   "cell_type": "code",
   "execution_count": 44,
   "metadata": {},
   "outputs": [],
   "source": [
    "plmd_id = [None]* math.ceil(len(reduced_sequence_tb_ls)/2)\n",
    "sequence = [None]*math.ceil(len(reduced_sequence_tb_ls)/2)\n",
    "\n",
    "dummy= 'X'* math.floor(window_size/2)\n",
    "\n",
    "row=0\n",
    "for i in range(0,len(reduced_sequence_tb_ls),2):\n",
    "  plmd_id[row] = reduced_sequence_tb_ls[i][1:-1]\n",
    "  sequence[row] =  dummy+reduced_sequence_tb_ls[i+1][0:-1]+dummy\n",
    "  row = row + 1"
   ]
  },
  {
   "cell_type": "code",
   "execution_count": 47,
   "metadata": {},
   "outputs": [
    {
     "data": {
      "text/plain": [
       "187"
      ]
     },
     "execution_count": 47,
     "metadata": {},
     "output_type": "execute_result"
    }
   ],
   "source": [
    "plmd_id_df = pd.DataFrame(plmd_id, columns = ['PLMD-ID'])\n",
    "sequence_df = pd.DataFrame(sequence, columns = ['Sequence'])\n",
    "\n",
    "reduced_sequence_tb_df = pd.concat([plmd_id_df, sequence_df], axis=1)\n",
    "\n",
    "reduced_sequence_tb_df.shape[0]"
   ]
  },
  {
   "cell_type": "markdown",
   "metadata": {},
   "source": [
    "# 2. Windowing the protein into peptides\n",
    "### Split positives and negatives peptides from sequence"
   ]
  },
  {
   "cell_type": "markdown",
   "metadata": {},
   "source": [
    "### Fetching positives"
   ]
  },
  {
   "cell_type": "code",
   "execution_count": 81,
   "metadata": {},
   "outputs": [],
   "source": [
    "positives_ls =[]\n",
    "\n",
    "for i in range ( reduced_sequence_tb_df.shape[0]):\n",
    "    for j in range ( full_data.shape[0]):\n",
    "        if (reduced_sequence_tb_df['PLMD-ID'][i] == full_data['PLMD ID'][j]  ):\n",
    "            positives_ls.append(reduced_sequence_tb_df['Sequence'][i][full_data['Position'][j] - 1 : full_data['Position'][j] + 2*math.floor(window_size/2) ]) \n",
    "\n"
   ]
  },
  {
   "cell_type": "code",
   "execution_count": 105,
   "metadata": {},
   "outputs": [
    {
     "data": {
      "text/plain": [
       "646"
      ]
     },
     "execution_count": 105,
     "metadata": {},
     "output_type": "execute_result"
    }
   ],
   "source": [
    "positives_ls = (np.unique(np.array(positives_ls))).tolist()\n",
    "len(positives_ls)"
   ]
  },
  {
   "cell_type": "markdown",
   "metadata": {},
   "source": [
    "### Fetching negatives"
   ]
  },
  {
   "cell_type": "code",
   "execution_count": 95,
   "metadata": {},
   "outputs": [],
   "source": [
    "# 1. First fetch all peptides with the resposible residue in the middle\n",
    "\n",
    "all_peptides_ls =[]\n",
    "\n",
    "for i in range ( reduced_sequence_tb_df.shape[0]):\n",
    "    for j in range ( len(reduced_sequence_tb_df['Sequence'][i])):\n",
    "        if (reduced_sequence_tb_df['Sequence'][i][j] == resposible_residue):\n",
    "            all_peptides_ls.append(reduced_sequence_tb_df['Sequence'][i][j - math.floor(window_size/2)  : j + math.floor(window_size/2) + 1 ]) \n",
    "\n"
   ]
  },
  {
   "cell_type": "code",
   "execution_count": 97,
   "metadata": {},
   "outputs": [
    {
     "data": {
      "text/plain": [
       "4572"
      ]
     },
     "execution_count": 97,
     "metadata": {},
     "output_type": "execute_result"
    }
   ],
   "source": [
    "len(all_peptides_ls)"
   ]
  },
  {
   "cell_type": "code",
   "execution_count": 106,
   "metadata": {},
   "outputs": [],
   "source": [
    "# 2. Now subtract positives from negatives\n",
    "temp = all_peptides_ls[:]\n",
    "count = 0\n",
    "for i in range (len (all_peptides_ls) ):\n",
    "    for j in range (len(positives_ls) ):\n",
    "        if (all_peptides_ls[i] == positives_ls[j]):\n",
    "            temp.pop(i - count)\n",
    "            count = count + 1\n",
    "            break\n",
    "negatives_ls = temp"
   ]
  },
  {
   "cell_type": "code",
   "execution_count": 107,
   "metadata": {},
   "outputs": [],
   "source": [
    "# 3. Remove the duplicates\n",
    "negatives_ls =  (np.unique(np.array(negatives_ls))).tolist()"
   ]
  },
  {
   "cell_type": "code",
   "execution_count": 108,
   "metadata": {},
   "outputs": [
    {
     "data": {
      "text/plain": [
       "3926"
      ]
     },
     "execution_count": 108,
     "metadata": {},
     "output_type": "execute_result"
    }
   ],
   "source": [
    "len(negatives_ls)"
   ]
  },
  {
   "cell_type": "code",
   "execution_count": 109,
   "metadata": {},
   "outputs": [
    {
     "data": {
      "text/plain": [
       "array(['AAAAAMRSRILQVSSKVNATWYPASSFSSSS',\n",
       "       'AAAAFGHVQRAEMVPKSSGARSPSPGRREED',\n",
       "       'AAAAGEVINAAYNQVKAVAQGNLSSADVQAA', ...,\n",
       "       'YWGEPQKTFETVGQDKWYRTGDIALMDEQGF',\n",
       "       'YWLSGLTCTEQNFISKSGYQQAASEHGLVVI',\n",
       "       'YWWAAEQMLTWPDPDKPANMILDDGGDATML'], dtype='<U31')"
      ]
     },
     "execution_count": 109,
     "metadata": {},
     "output_type": "execute_result"
    }
   ],
   "source": [
    "np.array(negatives_ls)"
   ]
  },
  {
   "cell_type": "code",
   "execution_count": 115,
   "metadata": {},
   "outputs": [
    {
     "name": "stdout",
     "output_type": "stream",
     "text": [
      "6.077399380804954\n"
     ]
    }
   ],
   "source": [
    "imbalance_ratio = len(negatives_ls) / len(positives_ls)\n",
    "print(imbalance_ratio)"
   ]
  },
  {
   "cell_type": "markdown",
   "metadata": {},
   "source": [
    "### Save positives and negatives into dataframe"
   ]
  },
  {
   "cell_type": "code",
   "execution_count": 223,
   "metadata": {},
   "outputs": [],
   "source": [
    "positives_df = pd.DataFrame(positives_ls, columns =['positives'])\n",
    "negatives_df = pd.DataFrame(negatives_ls, columns =['negatives'])"
   ]
  },
  {
   "cell_type": "markdown",
   "metadata": {},
   "source": [
    "### (Optional Start) if you want to avoid padding "
   ]
  },
  {
   "cell_type": "code",
   "execution_count": 224,
   "metadata": {},
   "outputs": [],
   "source": [
    "idx_list_pos = []\n",
    "for i in range(positives_df.shape[0]):\n",
    "    if (positives_df['positives'][i][0] == 'X'  or positives_df['positives'][i][-1] == 'X' ):\n",
    "        idx_list_pos.append(i)\n",
    "positives_df = positives_df.drop(index = idx_list_pos)"
   ]
  },
  {
   "cell_type": "code",
   "execution_count": 225,
   "metadata": {},
   "outputs": [
    {
     "data": {
      "text/plain": [
       "(594, 1)"
      ]
     },
     "execution_count": 225,
     "metadata": {},
     "output_type": "execute_result"
    }
   ],
   "source": [
    "positives_df.shape"
   ]
  },
  {
   "cell_type": "code",
   "execution_count": 226,
   "metadata": {},
   "outputs": [],
   "source": [
    "idx_list_neg = []\n",
    "for i in range(negatives_df.shape[0]):\n",
    "    if (negatives_df['negatives'][i][0] == 'X' or negatives_df['negatives'][i][-1] == 'X' ):\n",
    "        idx_list_neg.append(i)\n",
    "negatives_df = negatives_df.drop(index = idx_list_neg)"
   ]
  },
  {
   "cell_type": "code",
   "execution_count": 227,
   "metadata": {},
   "outputs": [
    {
     "data": {
      "text/plain": [
       "(3584, 1)"
      ]
     },
     "execution_count": 227,
     "metadata": {},
     "output_type": "execute_result"
    }
   ],
   "source": [
    "negatives_df.shape"
   ]
  },
  {
   "cell_type": "markdown",
   "metadata": {},
   "source": [
    "### (Optional end)"
   ]
  },
  {
   "cell_type": "code",
   "execution_count": 230,
   "metadata": {},
   "outputs": [
    {
     "name": "stdout",
     "output_type": "stream",
     "text": [
      "6.033670033670034\n"
     ]
    }
   ],
   "source": [
    "imbalance_ratio = negatives_df.shape[0]/ positives_df.shape[0]\n",
    "print(imbalance_ratio)\n",
    "\n",
    "positives_df.to_csv('positives.csv',index = False)\n",
    "negatives_df.to_csv('negatives.csv',index= False)"
   ]
  },
  {
   "cell_type": "markdown",
   "metadata": {},
   "source": [
    "# 3. Feature Extraction"
   ]
  },
  {
   "cell_type": "markdown",
   "metadata": {},
   "source": [
    "### Converting to fasta for using iFeatures"
   ]
  },
  {
   "cell_type": "code",
   "execution_count": 3,
   "metadata": {},
   "outputs": [],
   "source": [
    "positives_df = pd.read_csv(directory+'positives.csv')"
   ]
  },
  {
   "cell_type": "code",
   "execution_count": 236,
   "metadata": {},
   "outputs": [],
   "source": [
    "f= open(directory+\"positives.fasta\",\"w+\")\n",
    "info = 1\n",
    "for index in range(positives_df.shape[0]):\n",
    "    f.write(\">\" + str(info)+ \"\\n\"+ positives_df['positives'][index]+\"\\n\")\n",
    "    info = info + 1\n",
    "f.close()"
   ]
  },
  {
   "cell_type": "code",
   "execution_count": 4,
   "metadata": {},
   "outputs": [],
   "source": [
    "negatives_df = pd.read_csv(directory+'negatives.csv')"
   ]
  },
  {
   "cell_type": "code",
   "execution_count": 238,
   "metadata": {},
   "outputs": [],
   "source": [
    "f= open(directory+\"negatives.fasta\",\"w+\")\n",
    "for index in range(negatives_df.shape[0]):\n",
    "    f.write(\">\" + str(info)+ \"\\n\"+ negatives_df['negatives'][index]+\"\\n\")\n",
    "    info = info + 1\n",
    "f.close()"
   ]
  },
  {
   "cell_type": "markdown",
   "metadata": {},
   "source": [
    "### CKSAAP"
   ]
  },
  {
   "cell_type": "code",
   "execution_count": 269,
   "metadata": {},
   "outputs": [
    {
     "name": "stdout",
     "output_type": "stream",
     "text": [
      "Descriptor type: CKSAAP\r\n"
     ]
    }
   ],
   "source": [
    "!python /Users/smshovan/Google\\ Drive/Colab\\ Notebooks/iFeature-master/iFeature.py --file /Users/smshovan/Google\\ Drive/Colab\\ Notebooks/New\\ Research/Master\\'s\\ Thesis\\ 1/positives.fasta --type CKSAAP\n",
    "! mv encoding.tsv pos_cksaap.tsv"
   ]
  },
  {
   "cell_type": "code",
   "execution_count": 270,
   "metadata": {},
   "outputs": [
    {
     "name": "stdout",
     "output_type": "stream",
     "text": [
      "Descriptor type: CKSAAP\r\n"
     ]
    }
   ],
   "source": [
    "!python /Users/smshovan/Google\\ Drive/Colab\\ Notebooks/iFeature-master/iFeature.py --file /Users/smshovan/Google\\ Drive/Colab\\ Notebooks/New\\ Research/Master\\'s\\ Thesis\\ 1/negatives.fasta --type CKSAAP\n",
    "! mv encoding.tsv neg_cksaap.tsv"
   ]
  },
  {
   "cell_type": "markdown",
   "metadata": {},
   "source": [
    "### PseAAC"
   ]
  },
  {
   "cell_type": "code",
   "execution_count": 271,
   "metadata": {},
   "outputs": [
    {
     "name": "stdout",
     "output_type": "stream",
     "text": [
      "Descriptor type: PAAC\r\n",
      "Error: all the sequence length should be larger than the lambdaValue+1: 31\r\n",
      "\r\n",
      "\r\n"
     ]
    }
   ],
   "source": [
    "!python /Users/smshovan/Google\\ Drive/Colab\\ Notebooks/iFeature-master/iFeature.py --file /Users/smshovan/Google\\ Drive/Colab\\ Notebooks/New\\ Research/Master\\'s\\ Thesis\\ 1/positives.fasta --type PAAC\n",
    "! mv encoding.tsv pos_paac.tsv"
   ]
  },
  {
   "cell_type": "code",
   "execution_count": 272,
   "metadata": {},
   "outputs": [
    {
     "name": "stdout",
     "output_type": "stream",
     "text": [
      "Descriptor type: PAAC\r\n",
      "Error: all the sequence length should be larger than the lambdaValue+1: 31\r\n",
      "\r\n",
      "\r\n"
     ]
    }
   ],
   "source": [
    "!python /Users/smshovan/Google\\ Drive/Colab\\ Notebooks/iFeature-master/iFeature.py --file /Users/smshovan/Google\\ Drive/Colab\\ Notebooks/New\\ Research/Master\\'s\\ Thesis\\ 1/negatives.fasta --type PAAC\n",
    "! mv encoding.tsv neg_paac.tsv"
   ]
  },
  {
   "cell_type": "markdown",
   "metadata": {},
   "source": [
    "### AAINDEX"
   ]
  },
  {
   "cell_type": "code",
   "execution_count": 273,
   "metadata": {},
   "outputs": [
    {
     "name": "stdout",
     "output_type": "stream",
     "text": [
      "Descriptor type: AAINDEX\r\n"
     ]
    }
   ],
   "source": [
    "!python /Users/smshovan/Google\\ Drive/Colab\\ Notebooks/iFeature-master/iFeature.py --file /Users/smshovan/Google\\ Drive/Colab\\ Notebooks/New\\ Research/Master\\'s\\ Thesis\\ 1/positives.fasta --type AAINDEX\n",
    "! mv encoding.tsv pos_aai.tsv"
   ]
  },
  {
   "cell_type": "code",
   "execution_count": 274,
   "metadata": {},
   "outputs": [
    {
     "name": "stdout",
     "output_type": "stream",
     "text": [
      "Descriptor type: AAINDEX\r\n"
     ]
    }
   ],
   "source": [
    "!python /Users/smshovan/Google\\ Drive/Colab\\ Notebooks/iFeature-master/iFeature.py --file /Users/smshovan/Google\\ Drive/Colab\\ Notebooks/New\\ Research/Master\\'s\\ Thesis\\ 1/negatives.fasta --type AAINDEX\n",
    "! mv encoding.tsv neg_aai.tsv"
   ]
  },
  {
   "cell_type": "markdown",
   "metadata": {},
   "source": [
    "## PSSM\n",
    "\n",
    "* 1. Install Local Blast \n",
    "* 2. Create db folder \n",
    "* 3. makeblastdb to create your database from protein dataset / download readymade database \n",
    "* 4. psiblast command"
   ]
  },
  {
   "cell_type": "code",
   "execution_count": 3,
   "metadata": {},
   "outputs": [],
   "source": [
    "! cd /Users/smshovan/ncbi-blast-2.10.0+/"
   ]
  },
  {
   "cell_type": "markdown",
   "metadata": {},
   "source": [
    "### Creating fasta files with respect to each peptides"
   ]
  },
  {
   "cell_type": "code",
   "execution_count": 142,
   "metadata": {},
   "outputs": [],
   "source": [
    "for i in range (positives_df.shape[0]):\n",
    "    f = open(\"/Users/smshovan/ncbi-blast-2.10.0+/queries/pos_peptides/pos_peptides\"+str(i+1)+\".fasta\", \"w+\")\n",
    "    f.write('>' + str(i+1) + '\\n' + positives_df['positives'][i])\n",
    "    f.close()"
   ]
  },
  {
   "cell_type": "code",
   "execution_count": 143,
   "metadata": {},
   "outputs": [],
   "source": [
    "for i in range (negatives_df.shape[0]):\n",
    "    f = open(\"/Users/smshovan/ncbi-blast-2.10.0+/queries/neg_peptides/neg_peptides\"+str(i+1)+\".fasta\", \"w+\")\n",
    "    f.write('>' + str(i+1) + '\\n' + negatives_df['negatives'][i])\n",
    "    f.close()"
   ]
  },
  {
   "cell_type": "markdown",
   "metadata": {},
   "source": [
    "### Blast Command"
   ]
  },
  {
   "cell_type": "code",
   "execution_count": 6,
   "metadata": {},
   "outputs": [
    {
     "name": "stdout",
     "output_type": "stream",
     "text": [
      "/Users/smshovan/ncbi-blast-2.10.0+/pssms/pos_pssms\n"
     ]
    }
   ],
   "source": [
    "cd /Users/smshovan/ncbi-blast-2.10.0+/pssms/pos_pssms"
   ]
  },
  {
   "cell_type": "code",
   "execution_count": 7,
   "metadata": {
    "scrolled": true
   },
   "outputs": [],
   "source": [
    "\n",
    "\n",
    "for i in range(positives_df.shape[0]+1):\n",
    "    os.system('psiblast -query /Users/smshovan/ncbi-blast-2.10.0+/queries/pos_peptides/pos_peptides'+str(i)+'.fasta -db /Users/smshovan/ncbi-blast-2.10.0+/db/newdatabase -num_iterations=3 -evalue=0.001 -out_ascii_pssm=pos_pssm'+str(i))\n",
    "    "
   ]
  },
  {
   "cell_type": "code",
   "execution_count": 8,
   "metadata": {},
   "outputs": [
    {
     "name": "stdout",
     "output_type": "stream",
     "text": [
      "/Users/smshovan/ncbi-blast-2.10.0+/pssms/neg_pssms\n"
     ]
    }
   ],
   "source": [
    "cd /Users/smshovan/ncbi-blast-2.10.0+/pssms/neg_pssms"
   ]
  },
  {
   "cell_type": "code",
   "execution_count": 9,
   "metadata": {},
   "outputs": [],
   "source": [
    "for i in range(negatives_df.shape[0]+1):\n",
    "    os.system('psiblast -query /Users/smshovan/ncbi-blast-2.10.0+/queries/neg_peptides/neg_peptides'+str(i)+'.fasta -db /Users/smshovan/ncbi-blast-2.10.0+/db/newdatabase -num_iterations=3 -evalue=0.001 -out_ascii_pssm=neg_pssm'+str(i))"
   ]
  },
  {
   "cell_type": "markdown",
   "metadata": {},
   "source": [
    "### PSSM Fetch"
   ]
  },
  {
   "cell_type": "code",
   "execution_count": 5,
   "metadata": {},
   "outputs": [
    {
     "name": "stdout",
     "output_type": "stream",
     "text": [
      "(31, 20)\n"
     ]
    }
   ],
   "source": [
    "\n",
    "\n",
    "matrix = [[0 for x in range(20)] for y in range(window_size)] \n",
    "\n",
    "print(np.array(matrix).shape)"
   ]
  },
  {
   "cell_type": "code",
   "execution_count": 8,
   "metadata": {},
   "outputs": [],
   "source": [
    "pos_evo_feature_vector = []\n",
    "\n",
    "for index in range(positives_df.shape[0]):\n",
    "    \n",
    "    if ( not (os.path.exists('/Users/smshovan/ncbi-blast-2.10.0+/pssms/pos_pssms/pos_pssm'+str(index+1)) )  ):\n",
    "        pos_evo_feature_vector.append( list( np.zeros(210)))\n",
    "        continue \n",
    "    \n",
    "    f = open('/Users/smshovan/ncbi-blast-2.10.0+/pssms/pos_pssms/pos_pssm'+str(index+1), 'r')  \n",
    "\n",
    "    # zero PSSM shape matrix\n",
    "    matrix = [[0 for x in range(20)] for y in range(window_size)] \n",
    "\n",
    "    # fetch only matrix\n",
    "    row = 0\n",
    "    for i, line in enumerate(f):\n",
    "        if i>=3 and i<=window_size + 2:\n",
    "            col = 0\n",
    "            myLine = line.split()\n",
    "            for j in range(2,22):\n",
    "                matrix[row][col] = myLine[j]\n",
    "                col+=1\n",
    "            row+=1\n",
    "\n",
    "\n",
    "\n",
    "    #grabbed matrix\n",
    "    matrix = np.array(matrix).astype(np.float)\n",
    "\n",
    "    # Normalization\n",
    "    normMatrix = stats.zscore(matrix)\n",
    "\n",
    "    # Multiplication with the transpose of itself\n",
    "    reduced_matrix = np.matmul(normMatrix.T, normMatrix)\n",
    "\n",
    "\n",
    "\n",
    "    # Grabbing Vector\n",
    "    evo_vector = []\n",
    "    for i in range(20):\n",
    "        for j in range(20):\n",
    "            if (i <= j):\n",
    "                evo_vector.append(reduced_matrix[i][j]) \n",
    "\n",
    "    #All vectors\n",
    "    pos_evo_feature_vector.append(evo_vector)\n",
    "\n",
    "\n",
    "    f.close()\n",
    "\n"
   ]
  },
  {
   "cell_type": "code",
   "execution_count": 9,
   "metadata": {},
   "outputs": [
    {
     "data": {
      "text/plain": [
       "(594, 210)"
      ]
     },
     "execution_count": 9,
     "metadata": {},
     "output_type": "execute_result"
    }
   ],
   "source": [
    "np.array(pos_evo_feature_vector).shape"
   ]
  },
  {
   "cell_type": "code",
   "execution_count": 10,
   "metadata": {},
   "outputs": [],
   "source": [
    "neg_evo_feature_vector = []\n",
    "\n",
    "for index in range(negatives_df.shape[0]):\n",
    "    \n",
    "    if ( not (os.path.exists('/Users/smshovan/ncbi-blast-2.10.0+/pssms/neg_pssms/neg_pssm'+str(index+1)) )  ):\n",
    "        neg_evo_feature_vector.append( list( np.zeros(210)))\n",
    "        continue \n",
    "    \n",
    "    f = open('/Users/smshovan/ncbi-blast-2.10.0+/pssms/neg_pssms/neg_pssm'+str(index+1), 'r')  \n",
    "\n",
    "    # zero PSSM shape matrix\n",
    "    matrix = [[0 for x in range(20)] for y in range(window_size)] \n",
    "\n",
    "    # fetch only matrix\n",
    "    row = 0\n",
    "    for i, line in enumerate(f):\n",
    "        if i>=3 and i<=window_size + 2:\n",
    "            col = 0\n",
    "            myLine = line.split()\n",
    "            for j in range(2,22):\n",
    "                matrix[row][col] = myLine[j]\n",
    "                col+=1\n",
    "            row+=1\n",
    "\n",
    "\n",
    "\n",
    "    #grabbed matrix\n",
    "    matrix = np.array(matrix).astype(np.float)\n",
    "\n",
    "    # Normalization\n",
    "    normMatrix = stats.zscore(matrix)\n",
    "\n",
    "    # Multiplication with the transpose of itself\n",
    "    reduced_matrix = np.matmul(normMatrix.T, normMatrix)\n",
    "\n",
    "\n",
    "\n",
    "    # Grabbing Vector\n",
    "    evo_vector = []\n",
    "    for i in range(20):\n",
    "        for j in range(20):\n",
    "            if (i <= j):\n",
    "                evo_vector.append(reduced_matrix[i][j]) \n",
    "\n",
    "    #All vectors\n",
    "    neg_evo_feature_vector.append(evo_vector)\n",
    "\n",
    "\n",
    "    f.close()\n",
    "\n"
   ]
  },
  {
   "cell_type": "code",
   "execution_count": 11,
   "metadata": {},
   "outputs": [
    {
     "data": {
      "text/plain": [
       "(3584, 210)"
      ]
     },
     "execution_count": 11,
     "metadata": {},
     "output_type": "execute_result"
    }
   ],
   "source": [
    "np.array(neg_evo_feature_vector).shape"
   ]
  },
  {
   "cell_type": "markdown",
   "metadata": {},
   "source": [
    "## Save vectors using dataframe"
   ]
  },
  {
   "cell_type": "code",
   "execution_count": 57,
   "metadata": {},
   "outputs": [],
   "source": [
    "\n",
    "\n",
    "pos_evo_feature_vector_df = pd.DataFrame(pos_evo_feature_vector)\n",
    "neg_evo_feature_vector_df = pd.DataFrame(neg_evo_feature_vector)\n",
    "\n",
    "pos_evo_feature_vector_df.to_csv(directory+'pos_pssm.csv',index = False)\n",
    "neg_evo_feature_vector_df.to_csv(directory+'neg_pssm.csv',index= False)"
   ]
  },
  {
   "cell_type": "markdown",
   "metadata": {},
   "source": [
    "# 4. Train Test Split "
   ]
  },
  {
   "cell_type": "markdown",
   "metadata": {},
   "source": [
    "## CKSAAP positive"
   ]
  },
  {
   "cell_type": "code",
   "execution_count": 323,
   "metadata": {},
   "outputs": [],
   "source": [
    "#feature_cksaap_pos = pd.read_table(\"pos_cksaap.tsv\")\n",
    "#del feature_cksaap_pos['#']\n",
    "\n",
    "\n",
    "feature_cksaap_pos = pd.read_csv(\"pos_pssm.csv\")"
   ]
  },
  {
   "cell_type": "code",
   "execution_count": 324,
   "metadata": {},
   "outputs": [
    {
     "data": {
      "text/html": [
       "<div>\n",
       "<style scoped>\n",
       "    .dataframe tbody tr th:only-of-type {\n",
       "        vertical-align: middle;\n",
       "    }\n",
       "\n",
       "    .dataframe tbody tr th {\n",
       "        vertical-align: top;\n",
       "    }\n",
       "\n",
       "    .dataframe thead th {\n",
       "        text-align: right;\n",
       "    }\n",
       "</style>\n",
       "<table border=\"1\" class=\"dataframe\">\n",
       "  <thead>\n",
       "    <tr style=\"text-align: right;\">\n",
       "      <th></th>\n",
       "      <th>0</th>\n",
       "      <th>1</th>\n",
       "      <th>2</th>\n",
       "      <th>3</th>\n",
       "      <th>4</th>\n",
       "      <th>5</th>\n",
       "      <th>6</th>\n",
       "      <th>7</th>\n",
       "      <th>8</th>\n",
       "      <th>9</th>\n",
       "      <th>...</th>\n",
       "      <th>200</th>\n",
       "      <th>201</th>\n",
       "      <th>202</th>\n",
       "      <th>203</th>\n",
       "      <th>204</th>\n",
       "      <th>205</th>\n",
       "      <th>206</th>\n",
       "      <th>207</th>\n",
       "      <th>208</th>\n",
       "      <th>209</th>\n",
       "    </tr>\n",
       "  </thead>\n",
       "  <tbody>\n",
       "    <tr>\n",
       "      <th>0</th>\n",
       "      <td>31.0</td>\n",
       "      <td>-2.494076</td>\n",
       "      <td>0.685958</td>\n",
       "      <td>1.531873</td>\n",
       "      <td>14.785539</td>\n",
       "      <td>1.110420</td>\n",
       "      <td>1.314947</td>\n",
       "      <td>13.505071</td>\n",
       "      <td>-8.602496</td>\n",
       "      <td>-2.306801</td>\n",
       "      <td>...</td>\n",
       "      <td>31.0</td>\n",
       "      <td>-9.094579</td>\n",
       "      <td>-10.764629</td>\n",
       "      <td>6.163315</td>\n",
       "      <td>31.0</td>\n",
       "      <td>28.058428</td>\n",
       "      <td>6.669312</td>\n",
       "      <td>31.0</td>\n",
       "      <td>4.757928</td>\n",
       "      <td>31.0</td>\n",
       "    </tr>\n",
       "    <tr>\n",
       "      <th>1</th>\n",
       "      <td>31.0</td>\n",
       "      <td>-3.046312</td>\n",
       "      <td>3.478299</td>\n",
       "      <td>2.949519</td>\n",
       "      <td>6.365296</td>\n",
       "      <td>0.769350</td>\n",
       "      <td>1.807430</td>\n",
       "      <td>11.788674</td>\n",
       "      <td>-3.174673</td>\n",
       "      <td>0.696794</td>\n",
       "      <td>...</td>\n",
       "      <td>31.0</td>\n",
       "      <td>-16.054475</td>\n",
       "      <td>-10.428365</td>\n",
       "      <td>3.361340</td>\n",
       "      <td>31.0</td>\n",
       "      <td>19.743792</td>\n",
       "      <td>-1.338405</td>\n",
       "      <td>31.0</td>\n",
       "      <td>8.193186</td>\n",
       "      <td>31.0</td>\n",
       "    </tr>\n",
       "    <tr>\n",
       "      <th>2</th>\n",
       "      <td>31.0</td>\n",
       "      <td>1.503359</td>\n",
       "      <td>-5.508361</td>\n",
       "      <td>-8.238631</td>\n",
       "      <td>19.303723</td>\n",
       "      <td>-2.696424</td>\n",
       "      <td>-4.515541</td>\n",
       "      <td>9.625431</td>\n",
       "      <td>-10.842591</td>\n",
       "      <td>2.538658</td>\n",
       "      <td>...</td>\n",
       "      <td>31.0</td>\n",
       "      <td>-3.928238</td>\n",
       "      <td>-6.983618</td>\n",
       "      <td>7.861393</td>\n",
       "      <td>31.0</td>\n",
       "      <td>28.645169</td>\n",
       "      <td>8.644120</td>\n",
       "      <td>31.0</td>\n",
       "      <td>8.379836</td>\n",
       "      <td>31.0</td>\n",
       "    </tr>\n",
       "    <tr>\n",
       "      <th>3</th>\n",
       "      <td>31.0</td>\n",
       "      <td>-0.717857</td>\n",
       "      <td>1.126641</td>\n",
       "      <td>0.771834</td>\n",
       "      <td>18.700831</td>\n",
       "      <td>-1.880400</td>\n",
       "      <td>0.688646</td>\n",
       "      <td>13.581592</td>\n",
       "      <td>-7.816298</td>\n",
       "      <td>-0.176711</td>\n",
       "      <td>...</td>\n",
       "      <td>31.0</td>\n",
       "      <td>-18.562838</td>\n",
       "      <td>-12.942061</td>\n",
       "      <td>14.119148</td>\n",
       "      <td>31.0</td>\n",
       "      <td>20.526017</td>\n",
       "      <td>-2.004277</td>\n",
       "      <td>31.0</td>\n",
       "      <td>5.711463</td>\n",
       "      <td>31.0</td>\n",
       "    </tr>\n",
       "    <tr>\n",
       "      <th>4</th>\n",
       "      <td>31.0</td>\n",
       "      <td>2.833019</td>\n",
       "      <td>15.246665</td>\n",
       "      <td>11.271209</td>\n",
       "      <td>13.739306</td>\n",
       "      <td>9.311329</td>\n",
       "      <td>12.768538</td>\n",
       "      <td>13.883483</td>\n",
       "      <td>3.278601</td>\n",
       "      <td>-8.945761</td>\n",
       "      <td>...</td>\n",
       "      <td>31.0</td>\n",
       "      <td>-10.678177</td>\n",
       "      <td>-10.144957</td>\n",
       "      <td>4.538282</td>\n",
       "      <td>31.0</td>\n",
       "      <td>17.258820</td>\n",
       "      <td>-5.361786</td>\n",
       "      <td>31.0</td>\n",
       "      <td>-1.879972</td>\n",
       "      <td>31.0</td>\n",
       "    </tr>\n",
       "  </tbody>\n",
       "</table>\n",
       "<p>5 rows × 210 columns</p>\n",
       "</div>"
      ],
      "text/plain": [
       "      0         1          2          3          4         5          6  \\\n",
       "0  31.0 -2.494076   0.685958   1.531873  14.785539  1.110420   1.314947   \n",
       "1  31.0 -3.046312   3.478299   2.949519   6.365296  0.769350   1.807430   \n",
       "2  31.0  1.503359  -5.508361  -8.238631  19.303723 -2.696424  -4.515541   \n",
       "3  31.0 -0.717857   1.126641   0.771834  18.700831 -1.880400   0.688646   \n",
       "4  31.0  2.833019  15.246665  11.271209  13.739306  9.311329  12.768538   \n",
       "\n",
       "           7          8         9  ...   200        201        202        203  \\\n",
       "0  13.505071  -8.602496 -2.306801  ...  31.0  -9.094579 -10.764629   6.163315   \n",
       "1  11.788674  -3.174673  0.696794  ...  31.0 -16.054475 -10.428365   3.361340   \n",
       "2   9.625431 -10.842591  2.538658  ...  31.0  -3.928238  -6.983618   7.861393   \n",
       "3  13.581592  -7.816298 -0.176711  ...  31.0 -18.562838 -12.942061  14.119148   \n",
       "4  13.883483   3.278601 -8.945761  ...  31.0 -10.678177 -10.144957   4.538282   \n",
       "\n",
       "    204        205       206   207       208   209  \n",
       "0  31.0  28.058428  6.669312  31.0  4.757928  31.0  \n",
       "1  31.0  19.743792 -1.338405  31.0  8.193186  31.0  \n",
       "2  31.0  28.645169  8.644120  31.0  8.379836  31.0  \n",
       "3  31.0  20.526017 -2.004277  31.0  5.711463  31.0  \n",
       "4  31.0  17.258820 -5.361786  31.0 -1.879972  31.0  \n",
       "\n",
       "[5 rows x 210 columns]"
      ]
     },
     "execution_count": 324,
     "metadata": {},
     "output_type": "execute_result"
    }
   ],
   "source": [
    "feature_cksaap_pos.head()"
   ]
  },
  {
   "cell_type": "markdown",
   "metadata": {},
   "source": [
    "### Adding label 1 for positives"
   ]
  },
  {
   "cell_type": "code",
   "execution_count": 325,
   "metadata": {},
   "outputs": [],
   "source": [
    "feature_cksaap_pos['label'] = 1"
   ]
  },
  {
   "cell_type": "code",
   "execution_count": 326,
   "metadata": {},
   "outputs": [
    {
     "data": {
      "text/html": [
       "<div>\n",
       "<style scoped>\n",
       "    .dataframe tbody tr th:only-of-type {\n",
       "        vertical-align: middle;\n",
       "    }\n",
       "\n",
       "    .dataframe tbody tr th {\n",
       "        vertical-align: top;\n",
       "    }\n",
       "\n",
       "    .dataframe thead th {\n",
       "        text-align: right;\n",
       "    }\n",
       "</style>\n",
       "<table border=\"1\" class=\"dataframe\">\n",
       "  <thead>\n",
       "    <tr style=\"text-align: right;\">\n",
       "      <th></th>\n",
       "      <th>0</th>\n",
       "      <th>1</th>\n",
       "      <th>2</th>\n",
       "      <th>3</th>\n",
       "      <th>4</th>\n",
       "      <th>5</th>\n",
       "      <th>6</th>\n",
       "      <th>7</th>\n",
       "      <th>8</th>\n",
       "      <th>9</th>\n",
       "      <th>...</th>\n",
       "      <th>201</th>\n",
       "      <th>202</th>\n",
       "      <th>203</th>\n",
       "      <th>204</th>\n",
       "      <th>205</th>\n",
       "      <th>206</th>\n",
       "      <th>207</th>\n",
       "      <th>208</th>\n",
       "      <th>209</th>\n",
       "      <th>label</th>\n",
       "    </tr>\n",
       "  </thead>\n",
       "  <tbody>\n",
       "    <tr>\n",
       "      <th>0</th>\n",
       "      <td>31.0</td>\n",
       "      <td>-2.494076</td>\n",
       "      <td>0.685958</td>\n",
       "      <td>1.531873</td>\n",
       "      <td>14.785539</td>\n",
       "      <td>1.110420</td>\n",
       "      <td>1.314947</td>\n",
       "      <td>13.505071</td>\n",
       "      <td>-8.602496</td>\n",
       "      <td>-2.306801</td>\n",
       "      <td>...</td>\n",
       "      <td>-9.094579</td>\n",
       "      <td>-10.764629</td>\n",
       "      <td>6.163315</td>\n",
       "      <td>31.0</td>\n",
       "      <td>28.058428</td>\n",
       "      <td>6.669312</td>\n",
       "      <td>31.0</td>\n",
       "      <td>4.757928</td>\n",
       "      <td>31.0</td>\n",
       "      <td>1</td>\n",
       "    </tr>\n",
       "    <tr>\n",
       "      <th>1</th>\n",
       "      <td>31.0</td>\n",
       "      <td>-3.046312</td>\n",
       "      <td>3.478299</td>\n",
       "      <td>2.949519</td>\n",
       "      <td>6.365296</td>\n",
       "      <td>0.769350</td>\n",
       "      <td>1.807430</td>\n",
       "      <td>11.788674</td>\n",
       "      <td>-3.174673</td>\n",
       "      <td>0.696794</td>\n",
       "      <td>...</td>\n",
       "      <td>-16.054475</td>\n",
       "      <td>-10.428365</td>\n",
       "      <td>3.361340</td>\n",
       "      <td>31.0</td>\n",
       "      <td>19.743792</td>\n",
       "      <td>-1.338405</td>\n",
       "      <td>31.0</td>\n",
       "      <td>8.193186</td>\n",
       "      <td>31.0</td>\n",
       "      <td>1</td>\n",
       "    </tr>\n",
       "    <tr>\n",
       "      <th>2</th>\n",
       "      <td>31.0</td>\n",
       "      <td>1.503359</td>\n",
       "      <td>-5.508361</td>\n",
       "      <td>-8.238631</td>\n",
       "      <td>19.303723</td>\n",
       "      <td>-2.696424</td>\n",
       "      <td>-4.515541</td>\n",
       "      <td>9.625431</td>\n",
       "      <td>-10.842591</td>\n",
       "      <td>2.538658</td>\n",
       "      <td>...</td>\n",
       "      <td>-3.928238</td>\n",
       "      <td>-6.983618</td>\n",
       "      <td>7.861393</td>\n",
       "      <td>31.0</td>\n",
       "      <td>28.645169</td>\n",
       "      <td>8.644120</td>\n",
       "      <td>31.0</td>\n",
       "      <td>8.379836</td>\n",
       "      <td>31.0</td>\n",
       "      <td>1</td>\n",
       "    </tr>\n",
       "    <tr>\n",
       "      <th>3</th>\n",
       "      <td>31.0</td>\n",
       "      <td>-0.717857</td>\n",
       "      <td>1.126641</td>\n",
       "      <td>0.771834</td>\n",
       "      <td>18.700831</td>\n",
       "      <td>-1.880400</td>\n",
       "      <td>0.688646</td>\n",
       "      <td>13.581592</td>\n",
       "      <td>-7.816298</td>\n",
       "      <td>-0.176711</td>\n",
       "      <td>...</td>\n",
       "      <td>-18.562838</td>\n",
       "      <td>-12.942061</td>\n",
       "      <td>14.119148</td>\n",
       "      <td>31.0</td>\n",
       "      <td>20.526017</td>\n",
       "      <td>-2.004277</td>\n",
       "      <td>31.0</td>\n",
       "      <td>5.711463</td>\n",
       "      <td>31.0</td>\n",
       "      <td>1</td>\n",
       "    </tr>\n",
       "    <tr>\n",
       "      <th>4</th>\n",
       "      <td>31.0</td>\n",
       "      <td>2.833019</td>\n",
       "      <td>15.246665</td>\n",
       "      <td>11.271209</td>\n",
       "      <td>13.739306</td>\n",
       "      <td>9.311329</td>\n",
       "      <td>12.768538</td>\n",
       "      <td>13.883483</td>\n",
       "      <td>3.278601</td>\n",
       "      <td>-8.945761</td>\n",
       "      <td>...</td>\n",
       "      <td>-10.678177</td>\n",
       "      <td>-10.144957</td>\n",
       "      <td>4.538282</td>\n",
       "      <td>31.0</td>\n",
       "      <td>17.258820</td>\n",
       "      <td>-5.361786</td>\n",
       "      <td>31.0</td>\n",
       "      <td>-1.879972</td>\n",
       "      <td>31.0</td>\n",
       "      <td>1</td>\n",
       "    </tr>\n",
       "  </tbody>\n",
       "</table>\n",
       "<p>5 rows × 211 columns</p>\n",
       "</div>"
      ],
      "text/plain": [
       "      0         1          2          3          4         5          6  \\\n",
       "0  31.0 -2.494076   0.685958   1.531873  14.785539  1.110420   1.314947   \n",
       "1  31.0 -3.046312   3.478299   2.949519   6.365296  0.769350   1.807430   \n",
       "2  31.0  1.503359  -5.508361  -8.238631  19.303723 -2.696424  -4.515541   \n",
       "3  31.0 -0.717857   1.126641   0.771834  18.700831 -1.880400   0.688646   \n",
       "4  31.0  2.833019  15.246665  11.271209  13.739306  9.311329  12.768538   \n",
       "\n",
       "           7          8         9  ...        201        202        203   204  \\\n",
       "0  13.505071  -8.602496 -2.306801  ...  -9.094579 -10.764629   6.163315  31.0   \n",
       "1  11.788674  -3.174673  0.696794  ... -16.054475 -10.428365   3.361340  31.0   \n",
       "2   9.625431 -10.842591  2.538658  ...  -3.928238  -6.983618   7.861393  31.0   \n",
       "3  13.581592  -7.816298 -0.176711  ... -18.562838 -12.942061  14.119148  31.0   \n",
       "4  13.883483   3.278601 -8.945761  ... -10.678177 -10.144957   4.538282  31.0   \n",
       "\n",
       "         205       206   207       208   209  label  \n",
       "0  28.058428  6.669312  31.0  4.757928  31.0      1  \n",
       "1  19.743792 -1.338405  31.0  8.193186  31.0      1  \n",
       "2  28.645169  8.644120  31.0  8.379836  31.0      1  \n",
       "3  20.526017 -2.004277  31.0  5.711463  31.0      1  \n",
       "4  17.258820 -5.361786  31.0 -1.879972  31.0      1  \n",
       "\n",
       "[5 rows x 211 columns]"
      ]
     },
     "execution_count": 326,
     "metadata": {},
     "output_type": "execute_result"
    }
   ],
   "source": [
    "feature_cksaap_pos.head()"
   ]
  },
  {
   "cell_type": "markdown",
   "metadata": {},
   "source": [
    "## CKSAAP negative"
   ]
  },
  {
   "cell_type": "code",
   "execution_count": 327,
   "metadata": {},
   "outputs": [],
   "source": [
    "#feature_cksaap_neg = pd.read_table(\"neg_cksaap.tsv\")\n",
    "#del feature_cksaap_neg['#']\n",
    "\n",
    "\n",
    "feature_cksaap_neg = pd.read_csv(\"neg_pssm.csv\")"
   ]
  },
  {
   "cell_type": "code",
   "execution_count": 328,
   "metadata": {},
   "outputs": [
    {
     "data": {
      "text/html": [
       "<div>\n",
       "<style scoped>\n",
       "    .dataframe tbody tr th:only-of-type {\n",
       "        vertical-align: middle;\n",
       "    }\n",
       "\n",
       "    .dataframe tbody tr th {\n",
       "        vertical-align: top;\n",
       "    }\n",
       "\n",
       "    .dataframe thead th {\n",
       "        text-align: right;\n",
       "    }\n",
       "</style>\n",
       "<table border=\"1\" class=\"dataframe\">\n",
       "  <thead>\n",
       "    <tr style=\"text-align: right;\">\n",
       "      <th></th>\n",
       "      <th>0</th>\n",
       "      <th>1</th>\n",
       "      <th>2</th>\n",
       "      <th>3</th>\n",
       "      <th>4</th>\n",
       "      <th>5</th>\n",
       "      <th>6</th>\n",
       "      <th>7</th>\n",
       "      <th>8</th>\n",
       "      <th>9</th>\n",
       "      <th>...</th>\n",
       "      <th>200</th>\n",
       "      <th>201</th>\n",
       "      <th>202</th>\n",
       "      <th>203</th>\n",
       "      <th>204</th>\n",
       "      <th>205</th>\n",
       "      <th>206</th>\n",
       "      <th>207</th>\n",
       "      <th>208</th>\n",
       "      <th>209</th>\n",
       "    </tr>\n",
       "  </thead>\n",
       "  <tbody>\n",
       "    <tr>\n",
       "      <th>0</th>\n",
       "      <td>31.0</td>\n",
       "      <td>-3.498944</td>\n",
       "      <td>1.624919</td>\n",
       "      <td>3.293813</td>\n",
       "      <td>25.227701</td>\n",
       "      <td>-3.462391</td>\n",
       "      <td>4.111381</td>\n",
       "      <td>21.275747</td>\n",
       "      <td>-0.834933</td>\n",
       "      <td>0.207523</td>\n",
       "      <td>...</td>\n",
       "      <td>31.0</td>\n",
       "      <td>-11.330636</td>\n",
       "      <td>-14.906752</td>\n",
       "      <td>-0.709337</td>\n",
       "      <td>31.0</td>\n",
       "      <td>20.462051</td>\n",
       "      <td>-6.612730</td>\n",
       "      <td>31.0</td>\n",
       "      <td>0.429759</td>\n",
       "      <td>31.0</td>\n",
       "    </tr>\n",
       "    <tr>\n",
       "      <th>1</th>\n",
       "      <td>31.0</td>\n",
       "      <td>-7.936477</td>\n",
       "      <td>-6.011784</td>\n",
       "      <td>-4.391480</td>\n",
       "      <td>23.812861</td>\n",
       "      <td>-7.473973</td>\n",
       "      <td>-6.375836</td>\n",
       "      <td>10.860176</td>\n",
       "      <td>-10.749932</td>\n",
       "      <td>7.294796</td>\n",
       "      <td>...</td>\n",
       "      <td>31.0</td>\n",
       "      <td>-4.566255</td>\n",
       "      <td>-4.902784</td>\n",
       "      <td>10.819002</td>\n",
       "      <td>31.0</td>\n",
       "      <td>17.939863</td>\n",
       "      <td>6.924424</td>\n",
       "      <td>31.0</td>\n",
       "      <td>7.882129</td>\n",
       "      <td>31.0</td>\n",
       "    </tr>\n",
       "    <tr>\n",
       "      <th>2</th>\n",
       "      <td>31.0</td>\n",
       "      <td>-1.891323</td>\n",
       "      <td>-11.919981</td>\n",
       "      <td>-11.295703</td>\n",
       "      <td>25.076427</td>\n",
       "      <td>-7.715717</td>\n",
       "      <td>-6.396629</td>\n",
       "      <td>9.508449</td>\n",
       "      <td>-12.402835</td>\n",
       "      <td>1.330839</td>\n",
       "      <td>...</td>\n",
       "      <td>31.0</td>\n",
       "      <td>-9.895780</td>\n",
       "      <td>-7.897276</td>\n",
       "      <td>6.298093</td>\n",
       "      <td>31.0</td>\n",
       "      <td>28.440430</td>\n",
       "      <td>2.131944</td>\n",
       "      <td>31.0</td>\n",
       "      <td>6.450526</td>\n",
       "      <td>31.0</td>\n",
       "    </tr>\n",
       "    <tr>\n",
       "      <th>3</th>\n",
       "      <td>31.0</td>\n",
       "      <td>-1.783457</td>\n",
       "      <td>2.885847</td>\n",
       "      <td>4.922267</td>\n",
       "      <td>12.134811</td>\n",
       "      <td>-1.996860</td>\n",
       "      <td>1.477778</td>\n",
       "      <td>19.377491</td>\n",
       "      <td>-7.784677</td>\n",
       "      <td>-3.632825</td>\n",
       "      <td>...</td>\n",
       "      <td>31.0</td>\n",
       "      <td>-7.524526</td>\n",
       "      <td>-10.498018</td>\n",
       "      <td>1.546414</td>\n",
       "      <td>31.0</td>\n",
       "      <td>24.742549</td>\n",
       "      <td>7.344357</td>\n",
       "      <td>31.0</td>\n",
       "      <td>2.935026</td>\n",
       "      <td>31.0</td>\n",
       "    </tr>\n",
       "    <tr>\n",
       "      <th>4</th>\n",
       "      <td>31.0</td>\n",
       "      <td>-5.430182</td>\n",
       "      <td>-4.375607</td>\n",
       "      <td>-10.725914</td>\n",
       "      <td>25.183854</td>\n",
       "      <td>-5.970622</td>\n",
       "      <td>-9.193968</td>\n",
       "      <td>25.045493</td>\n",
       "      <td>-6.050316</td>\n",
       "      <td>4.928148</td>\n",
       "      <td>...</td>\n",
       "      <td>31.0</td>\n",
       "      <td>4.317189</td>\n",
       "      <td>-7.648664</td>\n",
       "      <td>10.308387</td>\n",
       "      <td>31.0</td>\n",
       "      <td>21.511160</td>\n",
       "      <td>6.222451</td>\n",
       "      <td>31.0</td>\n",
       "      <td>2.226981</td>\n",
       "      <td>31.0</td>\n",
       "    </tr>\n",
       "  </tbody>\n",
       "</table>\n",
       "<p>5 rows × 210 columns</p>\n",
       "</div>"
      ],
      "text/plain": [
       "      0         1          2          3          4         5         6  \\\n",
       "0  31.0 -3.498944   1.624919   3.293813  25.227701 -3.462391  4.111381   \n",
       "1  31.0 -7.936477  -6.011784  -4.391480  23.812861 -7.473973 -6.375836   \n",
       "2  31.0 -1.891323 -11.919981 -11.295703  25.076427 -7.715717 -6.396629   \n",
       "3  31.0 -1.783457   2.885847   4.922267  12.134811 -1.996860  1.477778   \n",
       "4  31.0 -5.430182  -4.375607 -10.725914  25.183854 -5.970622 -9.193968   \n",
       "\n",
       "           7          8         9  ...   200        201        202        203  \\\n",
       "0  21.275747  -0.834933  0.207523  ...  31.0 -11.330636 -14.906752  -0.709337   \n",
       "1  10.860176 -10.749932  7.294796  ...  31.0  -4.566255  -4.902784  10.819002   \n",
       "2   9.508449 -12.402835  1.330839  ...  31.0  -9.895780  -7.897276   6.298093   \n",
       "3  19.377491  -7.784677 -3.632825  ...  31.0  -7.524526 -10.498018   1.546414   \n",
       "4  25.045493  -6.050316  4.928148  ...  31.0   4.317189  -7.648664  10.308387   \n",
       "\n",
       "    204        205       206   207       208   209  \n",
       "0  31.0  20.462051 -6.612730  31.0  0.429759  31.0  \n",
       "1  31.0  17.939863  6.924424  31.0  7.882129  31.0  \n",
       "2  31.0  28.440430  2.131944  31.0  6.450526  31.0  \n",
       "3  31.0  24.742549  7.344357  31.0  2.935026  31.0  \n",
       "4  31.0  21.511160  6.222451  31.0  2.226981  31.0  \n",
       "\n",
       "[5 rows x 210 columns]"
      ]
     },
     "execution_count": 328,
     "metadata": {},
     "output_type": "execute_result"
    }
   ],
   "source": [
    "feature_cksaap_neg.head()"
   ]
  },
  {
   "cell_type": "markdown",
   "metadata": {},
   "source": [
    "## Adding label 0 for negatives"
   ]
  },
  {
   "cell_type": "code",
   "execution_count": 329,
   "metadata": {},
   "outputs": [],
   "source": [
    "feature_cksaap_neg['label'] = 0"
   ]
  },
  {
   "cell_type": "code",
   "execution_count": 330,
   "metadata": {},
   "outputs": [
    {
     "data": {
      "text/html": [
       "<div>\n",
       "<style scoped>\n",
       "    .dataframe tbody tr th:only-of-type {\n",
       "        vertical-align: middle;\n",
       "    }\n",
       "\n",
       "    .dataframe tbody tr th {\n",
       "        vertical-align: top;\n",
       "    }\n",
       "\n",
       "    .dataframe thead th {\n",
       "        text-align: right;\n",
       "    }\n",
       "</style>\n",
       "<table border=\"1\" class=\"dataframe\">\n",
       "  <thead>\n",
       "    <tr style=\"text-align: right;\">\n",
       "      <th></th>\n",
       "      <th>0</th>\n",
       "      <th>1</th>\n",
       "      <th>2</th>\n",
       "      <th>3</th>\n",
       "      <th>4</th>\n",
       "      <th>5</th>\n",
       "      <th>6</th>\n",
       "      <th>7</th>\n",
       "      <th>8</th>\n",
       "      <th>9</th>\n",
       "      <th>...</th>\n",
       "      <th>201</th>\n",
       "      <th>202</th>\n",
       "      <th>203</th>\n",
       "      <th>204</th>\n",
       "      <th>205</th>\n",
       "      <th>206</th>\n",
       "      <th>207</th>\n",
       "      <th>208</th>\n",
       "      <th>209</th>\n",
       "      <th>label</th>\n",
       "    </tr>\n",
       "  </thead>\n",
       "  <tbody>\n",
       "    <tr>\n",
       "      <th>0</th>\n",
       "      <td>31.0</td>\n",
       "      <td>-3.498944</td>\n",
       "      <td>1.624919</td>\n",
       "      <td>3.293813</td>\n",
       "      <td>25.227701</td>\n",
       "      <td>-3.462391</td>\n",
       "      <td>4.111381</td>\n",
       "      <td>21.275747</td>\n",
       "      <td>-0.834933</td>\n",
       "      <td>0.207523</td>\n",
       "      <td>...</td>\n",
       "      <td>-11.330636</td>\n",
       "      <td>-14.906752</td>\n",
       "      <td>-0.709337</td>\n",
       "      <td>31.0</td>\n",
       "      <td>20.462051</td>\n",
       "      <td>-6.612730</td>\n",
       "      <td>31.0</td>\n",
       "      <td>0.429759</td>\n",
       "      <td>31.0</td>\n",
       "      <td>0</td>\n",
       "    </tr>\n",
       "    <tr>\n",
       "      <th>1</th>\n",
       "      <td>31.0</td>\n",
       "      <td>-7.936477</td>\n",
       "      <td>-6.011784</td>\n",
       "      <td>-4.391480</td>\n",
       "      <td>23.812861</td>\n",
       "      <td>-7.473973</td>\n",
       "      <td>-6.375836</td>\n",
       "      <td>10.860176</td>\n",
       "      <td>-10.749932</td>\n",
       "      <td>7.294796</td>\n",
       "      <td>...</td>\n",
       "      <td>-4.566255</td>\n",
       "      <td>-4.902784</td>\n",
       "      <td>10.819002</td>\n",
       "      <td>31.0</td>\n",
       "      <td>17.939863</td>\n",
       "      <td>6.924424</td>\n",
       "      <td>31.0</td>\n",
       "      <td>7.882129</td>\n",
       "      <td>31.0</td>\n",
       "      <td>0</td>\n",
       "    </tr>\n",
       "    <tr>\n",
       "      <th>2</th>\n",
       "      <td>31.0</td>\n",
       "      <td>-1.891323</td>\n",
       "      <td>-11.919981</td>\n",
       "      <td>-11.295703</td>\n",
       "      <td>25.076427</td>\n",
       "      <td>-7.715717</td>\n",
       "      <td>-6.396629</td>\n",
       "      <td>9.508449</td>\n",
       "      <td>-12.402835</td>\n",
       "      <td>1.330839</td>\n",
       "      <td>...</td>\n",
       "      <td>-9.895780</td>\n",
       "      <td>-7.897276</td>\n",
       "      <td>6.298093</td>\n",
       "      <td>31.0</td>\n",
       "      <td>28.440430</td>\n",
       "      <td>2.131944</td>\n",
       "      <td>31.0</td>\n",
       "      <td>6.450526</td>\n",
       "      <td>31.0</td>\n",
       "      <td>0</td>\n",
       "    </tr>\n",
       "    <tr>\n",
       "      <th>3</th>\n",
       "      <td>31.0</td>\n",
       "      <td>-1.783457</td>\n",
       "      <td>2.885847</td>\n",
       "      <td>4.922267</td>\n",
       "      <td>12.134811</td>\n",
       "      <td>-1.996860</td>\n",
       "      <td>1.477778</td>\n",
       "      <td>19.377491</td>\n",
       "      <td>-7.784677</td>\n",
       "      <td>-3.632825</td>\n",
       "      <td>...</td>\n",
       "      <td>-7.524526</td>\n",
       "      <td>-10.498018</td>\n",
       "      <td>1.546414</td>\n",
       "      <td>31.0</td>\n",
       "      <td>24.742549</td>\n",
       "      <td>7.344357</td>\n",
       "      <td>31.0</td>\n",
       "      <td>2.935026</td>\n",
       "      <td>31.0</td>\n",
       "      <td>0</td>\n",
       "    </tr>\n",
       "    <tr>\n",
       "      <th>4</th>\n",
       "      <td>31.0</td>\n",
       "      <td>-5.430182</td>\n",
       "      <td>-4.375607</td>\n",
       "      <td>-10.725914</td>\n",
       "      <td>25.183854</td>\n",
       "      <td>-5.970622</td>\n",
       "      <td>-9.193968</td>\n",
       "      <td>25.045493</td>\n",
       "      <td>-6.050316</td>\n",
       "      <td>4.928148</td>\n",
       "      <td>...</td>\n",
       "      <td>4.317189</td>\n",
       "      <td>-7.648664</td>\n",
       "      <td>10.308387</td>\n",
       "      <td>31.0</td>\n",
       "      <td>21.511160</td>\n",
       "      <td>6.222451</td>\n",
       "      <td>31.0</td>\n",
       "      <td>2.226981</td>\n",
       "      <td>31.0</td>\n",
       "      <td>0</td>\n",
       "    </tr>\n",
       "  </tbody>\n",
       "</table>\n",
       "<p>5 rows × 211 columns</p>\n",
       "</div>"
      ],
      "text/plain": [
       "      0         1          2          3          4         5         6  \\\n",
       "0  31.0 -3.498944   1.624919   3.293813  25.227701 -3.462391  4.111381   \n",
       "1  31.0 -7.936477  -6.011784  -4.391480  23.812861 -7.473973 -6.375836   \n",
       "2  31.0 -1.891323 -11.919981 -11.295703  25.076427 -7.715717 -6.396629   \n",
       "3  31.0 -1.783457   2.885847   4.922267  12.134811 -1.996860  1.477778   \n",
       "4  31.0 -5.430182  -4.375607 -10.725914  25.183854 -5.970622 -9.193968   \n",
       "\n",
       "           7          8         9  ...        201        202        203   204  \\\n",
       "0  21.275747  -0.834933  0.207523  ... -11.330636 -14.906752  -0.709337  31.0   \n",
       "1  10.860176 -10.749932  7.294796  ...  -4.566255  -4.902784  10.819002  31.0   \n",
       "2   9.508449 -12.402835  1.330839  ...  -9.895780  -7.897276   6.298093  31.0   \n",
       "3  19.377491  -7.784677 -3.632825  ...  -7.524526 -10.498018   1.546414  31.0   \n",
       "4  25.045493  -6.050316  4.928148  ...   4.317189  -7.648664  10.308387  31.0   \n",
       "\n",
       "         205       206   207       208   209  label  \n",
       "0  20.462051 -6.612730  31.0  0.429759  31.0      0  \n",
       "1  17.939863  6.924424  31.0  7.882129  31.0      0  \n",
       "2  28.440430  2.131944  31.0  6.450526  31.0      0  \n",
       "3  24.742549  7.344357  31.0  2.935026  31.0      0  \n",
       "4  21.511160  6.222451  31.0  2.226981  31.0      0  \n",
       "\n",
       "[5 rows x 211 columns]"
      ]
     },
     "execution_count": 330,
     "metadata": {},
     "output_type": "execute_result"
    }
   ],
   "source": [
    "feature_cksaap_neg.head()"
   ]
  },
  {
   "cell_type": "markdown",
   "metadata": {},
   "source": [
    "### Marging two dataFrames"
   ]
  },
  {
   "cell_type": "code",
   "execution_count": 331,
   "metadata": {},
   "outputs": [],
   "source": [
    "feature_cksaap = feature_cksaap_pos.append(feature_cksaap_neg)"
   ]
  },
  {
   "cell_type": "code",
   "execution_count": 332,
   "metadata": {},
   "outputs": [
    {
     "data": {
      "text/html": [
       "<div>\n",
       "<style scoped>\n",
       "    .dataframe tbody tr th:only-of-type {\n",
       "        vertical-align: middle;\n",
       "    }\n",
       "\n",
       "    .dataframe tbody tr th {\n",
       "        vertical-align: top;\n",
       "    }\n",
       "\n",
       "    .dataframe thead th {\n",
       "        text-align: right;\n",
       "    }\n",
       "</style>\n",
       "<table border=\"1\" class=\"dataframe\">\n",
       "  <thead>\n",
       "    <tr style=\"text-align: right;\">\n",
       "      <th></th>\n",
       "      <th>0</th>\n",
       "      <th>1</th>\n",
       "      <th>2</th>\n",
       "      <th>3</th>\n",
       "      <th>4</th>\n",
       "      <th>5</th>\n",
       "      <th>6</th>\n",
       "      <th>7</th>\n",
       "      <th>8</th>\n",
       "      <th>9</th>\n",
       "      <th>...</th>\n",
       "      <th>201</th>\n",
       "      <th>202</th>\n",
       "      <th>203</th>\n",
       "      <th>204</th>\n",
       "      <th>205</th>\n",
       "      <th>206</th>\n",
       "      <th>207</th>\n",
       "      <th>208</th>\n",
       "      <th>209</th>\n",
       "      <th>label</th>\n",
       "    </tr>\n",
       "  </thead>\n",
       "  <tbody>\n",
       "    <tr>\n",
       "      <th>0</th>\n",
       "      <td>31.0</td>\n",
       "      <td>-2.494076</td>\n",
       "      <td>0.685958</td>\n",
       "      <td>1.531873</td>\n",
       "      <td>14.785539</td>\n",
       "      <td>1.110420</td>\n",
       "      <td>1.314947</td>\n",
       "      <td>13.505071</td>\n",
       "      <td>-8.602496</td>\n",
       "      <td>-2.306801</td>\n",
       "      <td>...</td>\n",
       "      <td>-9.094579</td>\n",
       "      <td>-10.764629</td>\n",
       "      <td>6.163315</td>\n",
       "      <td>31.0</td>\n",
       "      <td>28.058428</td>\n",
       "      <td>6.669312</td>\n",
       "      <td>31.0</td>\n",
       "      <td>4.757928</td>\n",
       "      <td>31.0</td>\n",
       "      <td>1</td>\n",
       "    </tr>\n",
       "    <tr>\n",
       "      <th>1</th>\n",
       "      <td>31.0</td>\n",
       "      <td>-3.046312</td>\n",
       "      <td>3.478299</td>\n",
       "      <td>2.949519</td>\n",
       "      <td>6.365296</td>\n",
       "      <td>0.769350</td>\n",
       "      <td>1.807430</td>\n",
       "      <td>11.788674</td>\n",
       "      <td>-3.174673</td>\n",
       "      <td>0.696794</td>\n",
       "      <td>...</td>\n",
       "      <td>-16.054475</td>\n",
       "      <td>-10.428365</td>\n",
       "      <td>3.361340</td>\n",
       "      <td>31.0</td>\n",
       "      <td>19.743792</td>\n",
       "      <td>-1.338405</td>\n",
       "      <td>31.0</td>\n",
       "      <td>8.193186</td>\n",
       "      <td>31.0</td>\n",
       "      <td>1</td>\n",
       "    </tr>\n",
       "    <tr>\n",
       "      <th>2</th>\n",
       "      <td>31.0</td>\n",
       "      <td>1.503359</td>\n",
       "      <td>-5.508361</td>\n",
       "      <td>-8.238631</td>\n",
       "      <td>19.303723</td>\n",
       "      <td>-2.696424</td>\n",
       "      <td>-4.515541</td>\n",
       "      <td>9.625431</td>\n",
       "      <td>-10.842591</td>\n",
       "      <td>2.538658</td>\n",
       "      <td>...</td>\n",
       "      <td>-3.928238</td>\n",
       "      <td>-6.983618</td>\n",
       "      <td>7.861393</td>\n",
       "      <td>31.0</td>\n",
       "      <td>28.645169</td>\n",
       "      <td>8.644120</td>\n",
       "      <td>31.0</td>\n",
       "      <td>8.379836</td>\n",
       "      <td>31.0</td>\n",
       "      <td>1</td>\n",
       "    </tr>\n",
       "    <tr>\n",
       "      <th>3</th>\n",
       "      <td>31.0</td>\n",
       "      <td>-0.717857</td>\n",
       "      <td>1.126641</td>\n",
       "      <td>0.771834</td>\n",
       "      <td>18.700831</td>\n",
       "      <td>-1.880400</td>\n",
       "      <td>0.688646</td>\n",
       "      <td>13.581592</td>\n",
       "      <td>-7.816298</td>\n",
       "      <td>-0.176711</td>\n",
       "      <td>...</td>\n",
       "      <td>-18.562838</td>\n",
       "      <td>-12.942061</td>\n",
       "      <td>14.119148</td>\n",
       "      <td>31.0</td>\n",
       "      <td>20.526017</td>\n",
       "      <td>-2.004277</td>\n",
       "      <td>31.0</td>\n",
       "      <td>5.711463</td>\n",
       "      <td>31.0</td>\n",
       "      <td>1</td>\n",
       "    </tr>\n",
       "    <tr>\n",
       "      <th>4</th>\n",
       "      <td>31.0</td>\n",
       "      <td>2.833019</td>\n",
       "      <td>15.246665</td>\n",
       "      <td>11.271209</td>\n",
       "      <td>13.739306</td>\n",
       "      <td>9.311329</td>\n",
       "      <td>12.768538</td>\n",
       "      <td>13.883483</td>\n",
       "      <td>3.278601</td>\n",
       "      <td>-8.945761</td>\n",
       "      <td>...</td>\n",
       "      <td>-10.678177</td>\n",
       "      <td>-10.144957</td>\n",
       "      <td>4.538282</td>\n",
       "      <td>31.0</td>\n",
       "      <td>17.258820</td>\n",
       "      <td>-5.361786</td>\n",
       "      <td>31.0</td>\n",
       "      <td>-1.879972</td>\n",
       "      <td>31.0</td>\n",
       "      <td>1</td>\n",
       "    </tr>\n",
       "    <tr>\n",
       "      <th>...</th>\n",
       "      <td>...</td>\n",
       "      <td>...</td>\n",
       "      <td>...</td>\n",
       "      <td>...</td>\n",
       "      <td>...</td>\n",
       "      <td>...</td>\n",
       "      <td>...</td>\n",
       "      <td>...</td>\n",
       "      <td>...</td>\n",
       "      <td>...</td>\n",
       "      <td>...</td>\n",
       "      <td>...</td>\n",
       "      <td>...</td>\n",
       "      <td>...</td>\n",
       "      <td>...</td>\n",
       "      <td>...</td>\n",
       "      <td>...</td>\n",
       "      <td>...</td>\n",
       "      <td>...</td>\n",
       "      <td>...</td>\n",
       "      <td>...</td>\n",
       "    </tr>\n",
       "    <tr>\n",
       "      <th>3579</th>\n",
       "      <td>31.0</td>\n",
       "      <td>-7.408761</td>\n",
       "      <td>-3.211125</td>\n",
       "      <td>0.750575</td>\n",
       "      <td>11.526290</td>\n",
       "      <td>-2.505588</td>\n",
       "      <td>-0.818770</td>\n",
       "      <td>13.740312</td>\n",
       "      <td>-12.488453</td>\n",
       "      <td>5.475507</td>\n",
       "      <td>...</td>\n",
       "      <td>-10.091910</td>\n",
       "      <td>-13.218870</td>\n",
       "      <td>11.301486</td>\n",
       "      <td>31.0</td>\n",
       "      <td>17.396864</td>\n",
       "      <td>-1.216938</td>\n",
       "      <td>31.0</td>\n",
       "      <td>-0.917468</td>\n",
       "      <td>31.0</td>\n",
       "      <td>0</td>\n",
       "    </tr>\n",
       "    <tr>\n",
       "      <th>3580</th>\n",
       "      <td>31.0</td>\n",
       "      <td>-3.856784</td>\n",
       "      <td>3.051736</td>\n",
       "      <td>0.260093</td>\n",
       "      <td>15.350437</td>\n",
       "      <td>2.427993</td>\n",
       "      <td>1.228784</td>\n",
       "      <td>19.670236</td>\n",
       "      <td>-10.065692</td>\n",
       "      <td>0.449072</td>\n",
       "      <td>...</td>\n",
       "      <td>-12.483038</td>\n",
       "      <td>-14.376997</td>\n",
       "      <td>6.301111</td>\n",
       "      <td>31.0</td>\n",
       "      <td>28.512171</td>\n",
       "      <td>2.652677</td>\n",
       "      <td>31.0</td>\n",
       "      <td>0.712415</td>\n",
       "      <td>31.0</td>\n",
       "      <td>0</td>\n",
       "    </tr>\n",
       "    <tr>\n",
       "      <th>3581</th>\n",
       "      <td>31.0</td>\n",
       "      <td>13.676622</td>\n",
       "      <td>4.866898</td>\n",
       "      <td>0.359715</td>\n",
       "      <td>20.499890</td>\n",
       "      <td>12.601763</td>\n",
       "      <td>11.029857</td>\n",
       "      <td>10.200452</td>\n",
       "      <td>2.404302</td>\n",
       "      <td>3.414805</td>\n",
       "      <td>...</td>\n",
       "      <td>-8.049001</td>\n",
       "      <td>-2.776399</td>\n",
       "      <td>10.472221</td>\n",
       "      <td>31.0</td>\n",
       "      <td>18.067915</td>\n",
       "      <td>7.869562</td>\n",
       "      <td>31.0</td>\n",
       "      <td>14.228404</td>\n",
       "      <td>31.0</td>\n",
       "      <td>0</td>\n",
       "    </tr>\n",
       "    <tr>\n",
       "      <th>3582</th>\n",
       "      <td>31.0</td>\n",
       "      <td>-1.145552</td>\n",
       "      <td>2.565257</td>\n",
       "      <td>2.453057</td>\n",
       "      <td>6.347846</td>\n",
       "      <td>-1.850345</td>\n",
       "      <td>-0.146393</td>\n",
       "      <td>12.011239</td>\n",
       "      <td>-6.590655</td>\n",
       "      <td>-1.408987</td>\n",
       "      <td>...</td>\n",
       "      <td>-12.672908</td>\n",
       "      <td>-12.670931</td>\n",
       "      <td>8.561479</td>\n",
       "      <td>31.0</td>\n",
       "      <td>25.734202</td>\n",
       "      <td>-3.735984</td>\n",
       "      <td>31.0</td>\n",
       "      <td>0.653275</td>\n",
       "      <td>31.0</td>\n",
       "      <td>0</td>\n",
       "    </tr>\n",
       "    <tr>\n",
       "      <th>3583</th>\n",
       "      <td>31.0</td>\n",
       "      <td>9.925141</td>\n",
       "      <td>-0.074232</td>\n",
       "      <td>-4.598488</td>\n",
       "      <td>13.816537</td>\n",
       "      <td>8.785440</td>\n",
       "      <td>2.727048</td>\n",
       "      <td>11.491316</td>\n",
       "      <td>5.982585</td>\n",
       "      <td>6.092152</td>\n",
       "      <td>...</td>\n",
       "      <td>-4.650339</td>\n",
       "      <td>-4.553008</td>\n",
       "      <td>8.218002</td>\n",
       "      <td>31.0</td>\n",
       "      <td>13.255494</td>\n",
       "      <td>-0.037482</td>\n",
       "      <td>31.0</td>\n",
       "      <td>4.204202</td>\n",
       "      <td>31.0</td>\n",
       "      <td>0</td>\n",
       "    </tr>\n",
       "  </tbody>\n",
       "</table>\n",
       "<p>4178 rows × 211 columns</p>\n",
       "</div>"
      ],
      "text/plain": [
       "         0          1          2          3          4          5          6  \\\n",
       "0     31.0  -2.494076   0.685958   1.531873  14.785539   1.110420   1.314947   \n",
       "1     31.0  -3.046312   3.478299   2.949519   6.365296   0.769350   1.807430   \n",
       "2     31.0   1.503359  -5.508361  -8.238631  19.303723  -2.696424  -4.515541   \n",
       "3     31.0  -0.717857   1.126641   0.771834  18.700831  -1.880400   0.688646   \n",
       "4     31.0   2.833019  15.246665  11.271209  13.739306   9.311329  12.768538   \n",
       "...    ...        ...        ...        ...        ...        ...        ...   \n",
       "3579  31.0  -7.408761  -3.211125   0.750575  11.526290  -2.505588  -0.818770   \n",
       "3580  31.0  -3.856784   3.051736   0.260093  15.350437   2.427993   1.228784   \n",
       "3581  31.0  13.676622   4.866898   0.359715  20.499890  12.601763  11.029857   \n",
       "3582  31.0  -1.145552   2.565257   2.453057   6.347846  -1.850345  -0.146393   \n",
       "3583  31.0   9.925141  -0.074232  -4.598488  13.816537   8.785440   2.727048   \n",
       "\n",
       "              7          8         9  ...        201        202        203  \\\n",
       "0     13.505071  -8.602496 -2.306801  ...  -9.094579 -10.764629   6.163315   \n",
       "1     11.788674  -3.174673  0.696794  ... -16.054475 -10.428365   3.361340   \n",
       "2      9.625431 -10.842591  2.538658  ...  -3.928238  -6.983618   7.861393   \n",
       "3     13.581592  -7.816298 -0.176711  ... -18.562838 -12.942061  14.119148   \n",
       "4     13.883483   3.278601 -8.945761  ... -10.678177 -10.144957   4.538282   \n",
       "...         ...        ...       ...  ...        ...        ...        ...   \n",
       "3579  13.740312 -12.488453  5.475507  ... -10.091910 -13.218870  11.301486   \n",
       "3580  19.670236 -10.065692  0.449072  ... -12.483038 -14.376997   6.301111   \n",
       "3581  10.200452   2.404302  3.414805  ...  -8.049001  -2.776399  10.472221   \n",
       "3582  12.011239  -6.590655 -1.408987  ... -12.672908 -12.670931   8.561479   \n",
       "3583  11.491316   5.982585  6.092152  ...  -4.650339  -4.553008   8.218002   \n",
       "\n",
       "       204        205       206   207        208   209  label  \n",
       "0     31.0  28.058428  6.669312  31.0   4.757928  31.0      1  \n",
       "1     31.0  19.743792 -1.338405  31.0   8.193186  31.0      1  \n",
       "2     31.0  28.645169  8.644120  31.0   8.379836  31.0      1  \n",
       "3     31.0  20.526017 -2.004277  31.0   5.711463  31.0      1  \n",
       "4     31.0  17.258820 -5.361786  31.0  -1.879972  31.0      1  \n",
       "...    ...        ...       ...   ...        ...   ...    ...  \n",
       "3579  31.0  17.396864 -1.216938  31.0  -0.917468  31.0      0  \n",
       "3580  31.0  28.512171  2.652677  31.0   0.712415  31.0      0  \n",
       "3581  31.0  18.067915  7.869562  31.0  14.228404  31.0      0  \n",
       "3582  31.0  25.734202 -3.735984  31.0   0.653275  31.0      0  \n",
       "3583  31.0  13.255494 -0.037482  31.0   4.204202  31.0      0  \n",
       "\n",
       "[4178 rows x 211 columns]"
      ]
     },
     "execution_count": 332,
     "metadata": {},
     "output_type": "execute_result"
    }
   ],
   "source": [
    "feature_cksaap"
   ]
  },
  {
   "cell_type": "markdown",
   "metadata": {},
   "source": [
    "### Spliting into data and labels"
   ]
  },
  {
   "cell_type": "code",
   "execution_count": 333,
   "metadata": {},
   "outputs": [],
   "source": [
    "label = list(feature_cksaap['label'])"
   ]
  },
  {
   "cell_type": "code",
   "execution_count": 334,
   "metadata": {
    "scrolled": true
   },
   "outputs": [],
   "source": [
    "feature_cksaap_data = feature_cksaap.copy()\n",
    "del feature_cksaap_data['label']"
   ]
  },
  {
   "cell_type": "code",
   "execution_count": 335,
   "metadata": {},
   "outputs": [
    {
     "data": {
      "text/html": [
       "<div>\n",
       "<style scoped>\n",
       "    .dataframe tbody tr th:only-of-type {\n",
       "        vertical-align: middle;\n",
       "    }\n",
       "\n",
       "    .dataframe tbody tr th {\n",
       "        vertical-align: top;\n",
       "    }\n",
       "\n",
       "    .dataframe thead th {\n",
       "        text-align: right;\n",
       "    }\n",
       "</style>\n",
       "<table border=\"1\" class=\"dataframe\">\n",
       "  <thead>\n",
       "    <tr style=\"text-align: right;\">\n",
       "      <th></th>\n",
       "      <th>0</th>\n",
       "      <th>1</th>\n",
       "      <th>2</th>\n",
       "      <th>3</th>\n",
       "      <th>4</th>\n",
       "      <th>5</th>\n",
       "      <th>6</th>\n",
       "      <th>7</th>\n",
       "      <th>8</th>\n",
       "      <th>9</th>\n",
       "      <th>...</th>\n",
       "      <th>200</th>\n",
       "      <th>201</th>\n",
       "      <th>202</th>\n",
       "      <th>203</th>\n",
       "      <th>204</th>\n",
       "      <th>205</th>\n",
       "      <th>206</th>\n",
       "      <th>207</th>\n",
       "      <th>208</th>\n",
       "      <th>209</th>\n",
       "    </tr>\n",
       "  </thead>\n",
       "  <tbody>\n",
       "    <tr>\n",
       "      <th>3579</th>\n",
       "      <td>31.0</td>\n",
       "      <td>-7.408761</td>\n",
       "      <td>-3.211125</td>\n",
       "      <td>0.750575</td>\n",
       "      <td>11.526290</td>\n",
       "      <td>-2.505588</td>\n",
       "      <td>-0.818770</td>\n",
       "      <td>13.740312</td>\n",
       "      <td>-12.488453</td>\n",
       "      <td>5.475507</td>\n",
       "      <td>...</td>\n",
       "      <td>31.0</td>\n",
       "      <td>-10.091910</td>\n",
       "      <td>-13.218870</td>\n",
       "      <td>11.301486</td>\n",
       "      <td>31.0</td>\n",
       "      <td>17.396864</td>\n",
       "      <td>-1.216938</td>\n",
       "      <td>31.0</td>\n",
       "      <td>-0.917468</td>\n",
       "      <td>31.0</td>\n",
       "    </tr>\n",
       "    <tr>\n",
       "      <th>3580</th>\n",
       "      <td>31.0</td>\n",
       "      <td>-3.856784</td>\n",
       "      <td>3.051736</td>\n",
       "      <td>0.260093</td>\n",
       "      <td>15.350437</td>\n",
       "      <td>2.427993</td>\n",
       "      <td>1.228784</td>\n",
       "      <td>19.670236</td>\n",
       "      <td>-10.065692</td>\n",
       "      <td>0.449072</td>\n",
       "      <td>...</td>\n",
       "      <td>31.0</td>\n",
       "      <td>-12.483038</td>\n",
       "      <td>-14.376997</td>\n",
       "      <td>6.301111</td>\n",
       "      <td>31.0</td>\n",
       "      <td>28.512171</td>\n",
       "      <td>2.652677</td>\n",
       "      <td>31.0</td>\n",
       "      <td>0.712415</td>\n",
       "      <td>31.0</td>\n",
       "    </tr>\n",
       "    <tr>\n",
       "      <th>3581</th>\n",
       "      <td>31.0</td>\n",
       "      <td>13.676622</td>\n",
       "      <td>4.866898</td>\n",
       "      <td>0.359715</td>\n",
       "      <td>20.499890</td>\n",
       "      <td>12.601763</td>\n",
       "      <td>11.029857</td>\n",
       "      <td>10.200452</td>\n",
       "      <td>2.404302</td>\n",
       "      <td>3.414805</td>\n",
       "      <td>...</td>\n",
       "      <td>31.0</td>\n",
       "      <td>-8.049001</td>\n",
       "      <td>-2.776399</td>\n",
       "      <td>10.472221</td>\n",
       "      <td>31.0</td>\n",
       "      <td>18.067915</td>\n",
       "      <td>7.869562</td>\n",
       "      <td>31.0</td>\n",
       "      <td>14.228404</td>\n",
       "      <td>31.0</td>\n",
       "    </tr>\n",
       "    <tr>\n",
       "      <th>3582</th>\n",
       "      <td>31.0</td>\n",
       "      <td>-1.145552</td>\n",
       "      <td>2.565257</td>\n",
       "      <td>2.453057</td>\n",
       "      <td>6.347846</td>\n",
       "      <td>-1.850345</td>\n",
       "      <td>-0.146393</td>\n",
       "      <td>12.011239</td>\n",
       "      <td>-6.590655</td>\n",
       "      <td>-1.408987</td>\n",
       "      <td>...</td>\n",
       "      <td>31.0</td>\n",
       "      <td>-12.672908</td>\n",
       "      <td>-12.670931</td>\n",
       "      <td>8.561479</td>\n",
       "      <td>31.0</td>\n",
       "      <td>25.734202</td>\n",
       "      <td>-3.735984</td>\n",
       "      <td>31.0</td>\n",
       "      <td>0.653275</td>\n",
       "      <td>31.0</td>\n",
       "    </tr>\n",
       "    <tr>\n",
       "      <th>3583</th>\n",
       "      <td>31.0</td>\n",
       "      <td>9.925141</td>\n",
       "      <td>-0.074232</td>\n",
       "      <td>-4.598488</td>\n",
       "      <td>13.816537</td>\n",
       "      <td>8.785440</td>\n",
       "      <td>2.727048</td>\n",
       "      <td>11.491316</td>\n",
       "      <td>5.982585</td>\n",
       "      <td>6.092152</td>\n",
       "      <td>...</td>\n",
       "      <td>31.0</td>\n",
       "      <td>-4.650339</td>\n",
       "      <td>-4.553008</td>\n",
       "      <td>8.218002</td>\n",
       "      <td>31.0</td>\n",
       "      <td>13.255494</td>\n",
       "      <td>-0.037482</td>\n",
       "      <td>31.0</td>\n",
       "      <td>4.204202</td>\n",
       "      <td>31.0</td>\n",
       "    </tr>\n",
       "  </tbody>\n",
       "</table>\n",
       "<p>5 rows × 210 columns</p>\n",
       "</div>"
      ],
      "text/plain": [
       "         0          1         2         3          4          5          6  \\\n",
       "3579  31.0  -7.408761 -3.211125  0.750575  11.526290  -2.505588  -0.818770   \n",
       "3580  31.0  -3.856784  3.051736  0.260093  15.350437   2.427993   1.228784   \n",
       "3581  31.0  13.676622  4.866898  0.359715  20.499890  12.601763  11.029857   \n",
       "3582  31.0  -1.145552  2.565257  2.453057   6.347846  -1.850345  -0.146393   \n",
       "3583  31.0   9.925141 -0.074232 -4.598488  13.816537   8.785440   2.727048   \n",
       "\n",
       "              7          8         9  ...   200        201        202  \\\n",
       "3579  13.740312 -12.488453  5.475507  ...  31.0 -10.091910 -13.218870   \n",
       "3580  19.670236 -10.065692  0.449072  ...  31.0 -12.483038 -14.376997   \n",
       "3581  10.200452   2.404302  3.414805  ...  31.0  -8.049001  -2.776399   \n",
       "3582  12.011239  -6.590655 -1.408987  ...  31.0 -12.672908 -12.670931   \n",
       "3583  11.491316   5.982585  6.092152  ...  31.0  -4.650339  -4.553008   \n",
       "\n",
       "            203   204        205       206   207        208   209  \n",
       "3579  11.301486  31.0  17.396864 -1.216938  31.0  -0.917468  31.0  \n",
       "3580   6.301111  31.0  28.512171  2.652677  31.0   0.712415  31.0  \n",
       "3581  10.472221  31.0  18.067915  7.869562  31.0  14.228404  31.0  \n",
       "3582   8.561479  31.0  25.734202 -3.735984  31.0   0.653275  31.0  \n",
       "3583   8.218002  31.0  13.255494 -0.037482  31.0   4.204202  31.0  \n",
       "\n",
       "[5 rows x 210 columns]"
      ]
     },
     "execution_count": 335,
     "metadata": {},
     "output_type": "execute_result"
    }
   ],
   "source": [
    "feature_cksaap_data.tail()"
   ]
  },
  {
   "cell_type": "markdown",
   "metadata": {},
   "source": [
    "### train test split "
   ]
  },
  {
   "cell_type": "code",
   "execution_count": 336,
   "metadata": {},
   "outputs": [],
   "source": [
    "cksaap_train, cksaap_test, label_train, label_test = train_test_split(feature_cksaap_data, label, test_size = 0.3, random_state = 42)"
   ]
  },
  {
   "cell_type": "code",
   "execution_count": 337,
   "metadata": {},
   "outputs": [
    {
     "name": "stdout",
     "output_type": "stream",
     "text": [
      "(2924, 210)\n",
      "(1254, 210)\n",
      "2924\n",
      "1254\n"
     ]
    }
   ],
   "source": [
    "print(cksaap_train.shape)\n",
    "print(cksaap_test.shape)\n",
    "print(len(label_train))\n",
    "print(len(label_test))\n"
   ]
  },
  {
   "cell_type": "markdown",
   "metadata": {},
   "source": [
    "# 4.1 Imbalance Dataset Handling"
   ]
  },
  {
   "cell_type": "code",
   "execution_count": 338,
   "metadata": {},
   "outputs": [],
   "source": [
    "resampling = ClusterCentroids(random_state=42)\n",
    "\n",
    "#resampling = RandomUnderSampler(random_state=42)\n",
    "\n",
    "#resampling = SMOTE(random_state=42)\n",
    "\n",
    "cksaap_train_b, label_train_b = resampling.fit_resample(cksaap_train, label_train)\n",
    "cksaap_test_b, label_test_b = resampling.fit_resample(cksaap_test, label_test)"
   ]
  },
  {
   "cell_type": "code",
   "execution_count": 339,
   "metadata": {},
   "outputs": [
    {
     "data": {
      "text/plain": [
       "(788, 210)"
      ]
     },
     "execution_count": 339,
     "metadata": {},
     "output_type": "execute_result"
    }
   ],
   "source": [
    "cksaap_train_b.shape"
   ]
  },
  {
   "cell_type": "markdown",
   "metadata": {},
   "source": [
    "# 5. Classification "
   ]
  },
  {
   "cell_type": "markdown",
   "metadata": {},
   "source": [
    "## K Fold Cross-Validation"
   ]
  },
  {
   "cell_type": "code",
   "execution_count": 433,
   "metadata": {},
   "outputs": [
    {
     "name": "stderr",
     "output_type": "stream",
     "text": [
      "/Users/smshovan/opt/anaconda3/lib/python3.8/site-packages/sklearn/utils/validation.py:68: FutureWarning: Pass shuffle=True, random_state=42 as keyword args. From version 0.25 passing these as positional arguments will result in an error\n",
      "  warnings.warn(\"Pass {} as keyword args. From version 0.25 \"\n"
     ]
    },
    {
     "name": "stdout",
     "output_type": "stream",
     "text": [
      "Accuracy 0.7449529373580006 0.043873057219628225\n",
      "Sensitivity 0.713525641025641 0.05397607190168221\n",
      "Specificity 0.7766666666666666 0.09494634977693026\n",
      "MCC 0.495980982823687 0.09235680359259295\n"
     ]
    }
   ],
   "source": [
    "#kfold = KFold(10, True, 42)\n",
    "kfold = StratifiedKFold(10, True, 42)\n",
    "\n",
    "acc = []\n",
    "sn = []\n",
    "sp = []\n",
    "mcc = []\n",
    "model=RandomForestClassifier(n_estimators=100,class_weight= 'balanced')\n",
    "\n",
    "for train, test in kfold.split(cksaap_train_b , y = label_train_b):\n",
    "\n",
    "    model.fit(np.array(cksaap_train_b)[train], np.array(label_train_b)[train])\n",
    "    label_pred = model.predict(np.array(cksaap_train_b)[test])\n",
    "    label_pred_proba = model.predict_proba(np.array(cksaap_train_b)[test])\n",
    "    \n",
    "    TN, FP, FN, TP = confusion_matrix(np.array(label_train_b)[test],label_pred,labels=[0,1]).ravel()\n",
    "    accuracy=(TP + TN)/(TP+FP+TN+FN)\n",
    "    Sensitivity = TP/(TP+FN)\n",
    "    Specificity = TN/(FP+TN)\n",
    "    MCC = ((TP*TN)-(FN*FP))/(math.sqrt((TP+FN)*(TN+FP)*(TP+FP)*(TN+FN)))\n",
    "    \n",
    "    acc.append(accuracy)\n",
    "    sn.append(Sensitivity)\n",
    "    sp.append(Specificity)\n",
    "    mcc.append(MCC)\n",
    "print(\"Accuracy \" + str(mean(acc)) +\" \" + str(np.std(acc)) )\n",
    "print(\"Sensitivity \" + str(mean(sn)) +\" \" + str(np.std(sn)) )\n",
    "print(\"Specificity \" + str(mean(sp)) +\" \" + str(np.std(sp)) )\n",
    "print(\"MCC \" + str(mean(mcc)) +\" \" + str(np.std(mcc)) )"
   ]
  },
  {
   "cell_type": "code",
   "execution_count": 434,
   "metadata": {},
   "outputs": [],
   "source": [
    "# Support Vector Machine\n",
    "#model = SVC(C = 64 ,kernel='rbf', gamma= .00010, probability=True)\n",
    "\n",
    "# XGB\n",
    "#model = XGBClassifier(class_weight= 'balanced')\n",
    "\n",
    "#lightGBM\n",
    "#model = LGBMClassifier( class_weight= 'balanced')\n",
    "\n",
    "#random forest\n",
    "model=RandomForestClassifier(n_estimators=100,class_weight= 'balanced')\n",
    "\n",
    "#model = ExtraTreesClassifier(class_weight= 'balanced')"
   ]
  },
  {
   "cell_type": "code",
   "execution_count": 435,
   "metadata": {},
   "outputs": [],
   "source": [
    "model.fit(cksaap_train_b, label_train_b)\n",
    "label_pred = model.predict(cksaap_test_b)\n",
    "\n",
    "label_pred_proba = model.predict_proba(cksaap_test_b)\n"
   ]
  },
  {
   "cell_type": "markdown",
   "metadata": {},
   "source": [
    "# 6. Performance Evaluation"
   ]
  },
  {
   "cell_type": "code",
   "execution_count": 436,
   "metadata": {},
   "outputs": [
    {
     "name": "stdout",
     "output_type": "stream",
     "text": [
      "146     36\n",
      "54     164\n",
      "\n",
      "Accuracy :  0.775\n",
      "Sensitivity :  0.73\n",
      "Specificity :  0.82\n",
      "MCC :  0.5522411240560589\n"
     ]
    }
   ],
   "source": [
    "TN, FP, FN, TP = confusion_matrix(label_test_b,label_pred,labels=[0,1]).ravel()\n",
    "\n",
    "\n",
    "print(str(TP) +\"     \"+  str(FP))\n",
    "print(str(FN) + \"     \"+  str(TN) +'\\n')\n",
    " \n",
    "\n",
    "accuracy=(TP + TN)/(TP+FP+TN+FN)\n",
    "Sensitivity = TP/(TP+FN)\n",
    "Specificity = TN/(FP+TN)\n",
    "MCC = ((TP*TN)-(FN*FP))/(math.sqrt((TP+FN)*(TN+FP)*(TP+FP)*(TN+FN)))\n",
    "\n",
    "print ('Accuracy : ', accuracy)\n",
    "print('Sensitivity : ', Sensitivity )\n",
    "print('Specificity : ', Specificity)\n",
    "print('MCC : ', MCC)"
   ]
  },
  {
   "cell_type": "markdown",
   "metadata": {},
   "source": [
    "## ROC Curve and AUC"
   ]
  },
  {
   "cell_type": "markdown",
   "metadata": {},
   "source": [
    "## For testing"
   ]
  },
  {
   "cell_type": "code",
   "execution_count": 396,
   "metadata": {},
   "outputs": [
    {
     "name": "stdout",
     "output_type": "stream",
     "text": [
      "0.7949999999999999\n"
     ]
    }
   ],
   "source": [
    "ns_fpr, ns_tpr , th = roc_curve(label_test_b, label_pred_proba[:,1])\n",
    "auc = roc_auc_score(label_test_b, label_pred)"
   ]
  },
  {
   "cell_type": "code",
   "execution_count": 376,
   "metadata": {},
   "outputs": [],
   "source": [
    "ns_fpr_2, ns_tpr_2 , th_2 = roc_curve(label_test_b, label_pred_proba[:,1])\n",
    "auc_2 = roc_auc_score(label_test_b, label_pred)"
   ]
  },
  {
   "cell_type": "code",
   "execution_count": 383,
   "metadata": {},
   "outputs": [],
   "source": [
    "ns_fpr_3, ns_tpr_3 , th_3 = roc_curve(label_test_b, label_pred_proba[:,1])\n",
    "auc_3 = roc_auc_score(label_test_b, label_pred)\n",
    "\n"
   ]
  },
  {
   "cell_type": "code",
   "execution_count": 401,
   "metadata": {},
   "outputs": [
    {
     "data": {
      "image/png": "[encoded data removed]",
      "text/plain": [
       "<Figure size 432x288 with 1 Axes>"
      ]
     },
     "metadata": {
      "needs_background": "light"
     },
     "output_type": "display_data"
    }
   ],
   "source": [
    "pyplot.plot(ns_fpr, ns_tpr, marker='', linestyle='-',label='LightGBM AUC: '+\"{:.2f}\".format(auc))\n",
    "pyplot.plot(ns_fpr_2, ns_tpr_2, marker='', linestyle='-',label='SVM AUC: '+\"{:.2f}\".format(auc_2))\n",
    "pyplot.plot(ns_fpr_3, ns_tpr_3, marker='', linestyle='-',label='RF AUC: '+\"{:.2f}\".format(auc_3))\n",
    "plt.plot([0, 1], [0, 1], linestyle='--', lw=2, color='r', label='Random guess')\n",
    "plt.legend(loc=4)\n",
    "plt.xlabel('False Positive Rate')\n",
    "plt.ylabel('True Positive Rate')\n",
    "plt.title(\"Testing ROC\")\n",
    "plt.savefig('test_ROC.png', dpi = 300)"
   ]
  },
  {
   "cell_type": "code",
   "execution_count": null,
   "metadata": {},
   "outputs": [],
   "source": []
  }
 ],
 "metadata": {
  "kernelspec": {
   "display_name": "Python 3",
   "language": "python",
   "name": "python3"
  },
  "language_info": {
   "codemirror_mode": {
    "name": "ipython",
    "version": 3
   },
   "file_extension": ".py",
   "mimetype": "text/x-python",
   "name": "python",
   "nbconvert_exporter": "python",
   "pygments_lexer": "ipython3",
   "version": "3.6.10"
  }
 },
 "nbformat": 4,
 "nbformat_minor": 4
}
